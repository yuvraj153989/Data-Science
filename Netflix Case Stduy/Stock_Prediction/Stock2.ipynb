{
  "cells": [
    {
      "cell_type": "code",
      "execution_count": 2,
      "metadata": {
        "id": "DAwItwSeGufA"
      },
      "outputs": [],
      "source": [
        "from __future__ import print_function\n",
        "import keras\n",
        "from keras.models import Model\n",
        "from keras.layers import Input,Dense,TimeDistributed,LSTM"
      ]
    },
    {
      "cell_type": "code",
      "execution_count": 3,
      "metadata": {
        "id": "D5l9eXSJOCa3"
      },
      "outputs": [],
      "source": [
        "import pandas as pd\n",
        "import numpy as np\n",
        "df=pd.read_csv(\"NetflixStocks.csv\")"
      ]
    },
    {
      "cell_type": "code",
      "execution_count": 4,
      "metadata": {
        "colab": {
          "base_uri": "https://localhost:8080/",
          "height": 206
        },
        "id": "AwO_uD0JOK89",
        "outputId": "2b0172b9-c566-4bcc-abe3-b5ed5f7a00cc"
      },
      "outputs": [
        {
          "data": {
            "text/html": [
              "<div>\n",
              "<style scoped>\n",
              "    .dataframe tbody tr th:only-of-type {\n",
              "        vertical-align: middle;\n",
              "    }\n",
              "\n",
              "    .dataframe tbody tr th {\n",
              "        vertical-align: top;\n",
              "    }\n",
              "\n",
              "    .dataframe thead th {\n",
              "        text-align: right;\n",
              "    }\n",
              "</style>\n",
              "<table border=\"1\" class=\"dataframe\">\n",
              "  <thead>\n",
              "    <tr style=\"text-align: right;\">\n",
              "      <th></th>\n",
              "      <th>Date</th>\n",
              "      <th>Open</th>\n",
              "      <th>High</th>\n",
              "      <th>Low</th>\n",
              "      <th>Close</th>\n",
              "      <th>Adj Close</th>\n",
              "      <th>Volume</th>\n",
              "    </tr>\n",
              "  </thead>\n",
              "  <tbody>\n",
              "    <tr>\n",
              "      <th>0</th>\n",
              "      <td>5/23/2002</td>\n",
              "      <td>1.156429</td>\n",
              "      <td>1.242857</td>\n",
              "      <td>1.145714</td>\n",
              "      <td>1.196429</td>\n",
              "      <td>1.196429</td>\n",
              "      <td>104790000</td>\n",
              "    </tr>\n",
              "    <tr>\n",
              "      <th>1</th>\n",
              "      <td>5/24/2002</td>\n",
              "      <td>1.214286</td>\n",
              "      <td>1.225000</td>\n",
              "      <td>1.197143</td>\n",
              "      <td>1.210000</td>\n",
              "      <td>1.210000</td>\n",
              "      <td>11104800</td>\n",
              "    </tr>\n",
              "    <tr>\n",
              "      <th>2</th>\n",
              "      <td>5/28/2002</td>\n",
              "      <td>1.213571</td>\n",
              "      <td>1.232143</td>\n",
              "      <td>1.157143</td>\n",
              "      <td>1.157143</td>\n",
              "      <td>1.157143</td>\n",
              "      <td>6609400</td>\n",
              "    </tr>\n",
              "    <tr>\n",
              "      <th>3</th>\n",
              "      <td>5/29/2002</td>\n",
              "      <td>1.164286</td>\n",
              "      <td>1.164286</td>\n",
              "      <td>1.085714</td>\n",
              "      <td>1.103571</td>\n",
              "      <td>1.103571</td>\n",
              "      <td>6757800</td>\n",
              "    </tr>\n",
              "    <tr>\n",
              "      <th>4</th>\n",
              "      <td>5/30/2002</td>\n",
              "      <td>1.107857</td>\n",
              "      <td>1.107857</td>\n",
              "      <td>1.071429</td>\n",
              "      <td>1.071429</td>\n",
              "      <td>1.071429</td>\n",
              "      <td>10154200</td>\n",
              "    </tr>\n",
              "  </tbody>\n",
              "</table>\n",
              "</div>"
            ],
            "text/plain": [
              "        Date      Open      High       Low     Close  Adj Close     Volume\n",
              "0  5/23/2002  1.156429  1.242857  1.145714  1.196429   1.196429  104790000\n",
              "1  5/24/2002  1.214286  1.225000  1.197143  1.210000   1.210000   11104800\n",
              "2  5/28/2002  1.213571  1.232143  1.157143  1.157143   1.157143    6609400\n",
              "3  5/29/2002  1.164286  1.164286  1.085714  1.103571   1.103571    6757800\n",
              "4  5/30/2002  1.107857  1.107857  1.071429  1.071429   1.071429   10154200"
            ]
          },
          "execution_count": 4,
          "metadata": {},
          "output_type": "execute_result"
        }
      ],
      "source": [
        "df.head()"
      ]
    },
    {
      "cell_type": "code",
      "execution_count": 5,
      "metadata": {
        "colab": {
          "base_uri": "https://localhost:8080/",
          "height": 206
        },
        "id": "1-BC3dYSPrQH",
        "outputId": "bf490de6-9d15-4071-8aa9-4c97a50c759e"
      },
      "outputs": [
        {
          "data": {
            "text/html": [
              "<div>\n",
              "<style scoped>\n",
              "    .dataframe tbody tr th:only-of-type {\n",
              "        vertical-align: middle;\n",
              "    }\n",
              "\n",
              "    .dataframe tbody tr th {\n",
              "        vertical-align: top;\n",
              "    }\n",
              "\n",
              "    .dataframe thead th {\n",
              "        text-align: right;\n",
              "    }\n",
              "</style>\n",
              "<table border=\"1\" class=\"dataframe\">\n",
              "  <thead>\n",
              "    <tr style=\"text-align: right;\">\n",
              "      <th></th>\n",
              "      <th>Date</th>\n",
              "      <th>Open</th>\n",
              "      <th>High</th>\n",
              "      <th>Low</th>\n",
              "      <th>Close</th>\n",
              "      <th>Adj Close</th>\n",
              "      <th>Volume</th>\n",
              "      <th>Day</th>\n",
              "      <th>Month</th>\n",
              "      <th>Year</th>\n",
              "      <th>Quarter</th>\n",
              "    </tr>\n",
              "  </thead>\n",
              "  <tbody>\n",
              "    <tr>\n",
              "      <th>0</th>\n",
              "      <td>2002-05-23</td>\n",
              "      <td>1.156429</td>\n",
              "      <td>1.242857</td>\n",
              "      <td>1.145714</td>\n",
              "      <td>1.196429</td>\n",
              "      <td>1.196429</td>\n",
              "      <td>104790000</td>\n",
              "      <td>23</td>\n",
              "      <td>5</td>\n",
              "      <td>2002</td>\n",
              "      <td>2</td>\n",
              "    </tr>\n",
              "    <tr>\n",
              "      <th>1</th>\n",
              "      <td>2002-05-24</td>\n",
              "      <td>1.214286</td>\n",
              "      <td>1.225000</td>\n",
              "      <td>1.197143</td>\n",
              "      <td>1.210000</td>\n",
              "      <td>1.210000</td>\n",
              "      <td>11104800</td>\n",
              "      <td>24</td>\n",
              "      <td>5</td>\n",
              "      <td>2002</td>\n",
              "      <td>2</td>\n",
              "    </tr>\n",
              "    <tr>\n",
              "      <th>2</th>\n",
              "      <td>2002-05-28</td>\n",
              "      <td>1.213571</td>\n",
              "      <td>1.232143</td>\n",
              "      <td>1.157143</td>\n",
              "      <td>1.157143</td>\n",
              "      <td>1.157143</td>\n",
              "      <td>6609400</td>\n",
              "      <td>28</td>\n",
              "      <td>5</td>\n",
              "      <td>2002</td>\n",
              "      <td>2</td>\n",
              "    </tr>\n",
              "    <tr>\n",
              "      <th>3</th>\n",
              "      <td>2002-05-29</td>\n",
              "      <td>1.164286</td>\n",
              "      <td>1.164286</td>\n",
              "      <td>1.085714</td>\n",
              "      <td>1.103571</td>\n",
              "      <td>1.103571</td>\n",
              "      <td>6757800</td>\n",
              "      <td>29</td>\n",
              "      <td>5</td>\n",
              "      <td>2002</td>\n",
              "      <td>2</td>\n",
              "    </tr>\n",
              "    <tr>\n",
              "      <th>4</th>\n",
              "      <td>2002-05-30</td>\n",
              "      <td>1.107857</td>\n",
              "      <td>1.107857</td>\n",
              "      <td>1.071429</td>\n",
              "      <td>1.071429</td>\n",
              "      <td>1.071429</td>\n",
              "      <td>10154200</td>\n",
              "      <td>30</td>\n",
              "      <td>5</td>\n",
              "      <td>2002</td>\n",
              "      <td>2</td>\n",
              "    </tr>\n",
              "  </tbody>\n",
              "</table>\n",
              "</div>"
            ],
            "text/plain": [
              "        Date      Open      High       Low     Close  Adj Close     Volume  \\\n",
              "0 2002-05-23  1.156429  1.242857  1.145714  1.196429   1.196429  104790000   \n",
              "1 2002-05-24  1.214286  1.225000  1.197143  1.210000   1.210000   11104800   \n",
              "2 2002-05-28  1.213571  1.232143  1.157143  1.157143   1.157143    6609400   \n",
              "3 2002-05-29  1.164286  1.164286  1.085714  1.103571   1.103571    6757800   \n",
              "4 2002-05-30  1.107857  1.107857  1.071429  1.071429   1.071429   10154200   \n",
              "\n",
              "   Day  Month  Year  Quarter  \n",
              "0   23      5  2002        2  \n",
              "1   24      5  2002        2  \n",
              "2   28      5  2002        2  \n",
              "3   29      5  2002        2  \n",
              "4   30      5  2002        2  "
            ]
          },
          "execution_count": 5,
          "metadata": {},
          "output_type": "execute_result"
        }
      ],
      "source": [
        "df['Date'] = pd.to_datetime(df['Date'])\n",
        "df['Day'] = df['Date'].dt.day\n",
        "df['Month'] = df['Date'].dt.month\n",
        "df['Year'] = df['Date'].dt.year\n",
        "df['Quarter'] = df['Date'].dt.quarter\n",
        "df.head()"
      ]
    },
    {
      "cell_type": "code",
      "execution_count": 6,
      "metadata": {
        "colab": {
          "base_uri": "https://localhost:8080/",
          "height": 564
        },
        "id": "9lIanP2MQ-GE",
        "outputId": "c4d54020-cc6d-4ea5-f04f-20a8b3b2d0e5"
      },
      "outputs": [
        {
          "data": {
            "image/png": "[encoded data removed]",
            "text/plain": [
              "<Figure size 1000x600 with 1 Axes>"
            ]
          },
          "metadata": {},
          "output_type": "display_data"
        }
      ],
      "source": [
        "import matplotlib.pyplot as plt\n",
        "yearly_open = df.groupby('Year')['Open'].mean()\n",
        "plt.figure(figsize=(10, 6))  # Adjust the figure size as needed\n",
        "yearly_open.plot(kind='line', marker='o', color='blue')\n",
        "plt.title('Average Open Amount by Year')\n",
        "plt.xlabel('Year')\n",
        "plt.ylabel('Open Amount')\n",
        "plt.grid(True)\n",
        "plt.show()"
      ]
    },
    {
      "cell_type": "code",
      "execution_count": 7,
      "metadata": {
        "colab": {
          "base_uri": "https://localhost:8080/"
        },
        "id": "1VtBpi3eVMyH",
        "outputId": "f89ac21c-5aad-4873-bc38-c86fdfea0296"
      },
      "outputs": [
        {
          "data": {
            "text/plain": [
              "Index(['Date', 'Open', 'High', 'Low', 'Close', 'Adj Close', 'Volume', 'Day',\n",
              "       'Month', 'Year', 'Quarter'],\n",
              "      dtype='object')"
            ]
          },
          "execution_count": 7,
          "metadata": {},
          "output_type": "execute_result"
        }
      ],
      "source": [
        "df.columns"
      ]
    },
    {
      "cell_type": "code",
      "execution_count": 8,
      "metadata": {
        "colab": {
          "base_uri": "https://localhost:8080/"
        },
        "id": "5EFkabtDPChl",
        "outputId": "ab6cb283-b68f-468d-9a04-7fa762b4aa79"
      },
      "outputs": [
        {
          "name": "stdout",
          "output_type": "stream",
          "text": [
            "<class 'pandas.core.frame.DataFrame'>\n",
            "RangeIndex: 4937 entries, 0 to 4936\n",
            "Data columns (total 11 columns):\n",
            " #   Column     Non-Null Count  Dtype         \n",
            "---  ------     --------------  -----         \n",
            " 0   Date       4937 non-null   datetime64[ns]\n",
            " 1   Open       4937 non-null   float64       \n",
            " 2   High       4937 non-null   float64       \n",
            " 3   Low        4937 non-null   float64       \n",
            " 4   Close      4937 non-null   float64       \n",
            " 5   Adj Close  4937 non-null   float64       \n",
            " 6   Volume     4937 non-null   int64         \n",
            " 7   Day        4937 non-null   int64         \n",
            " 8   Month      4937 non-null   int64         \n",
            " 9   Year       4937 non-null   int64         \n",
            " 10  Quarter    4937 non-null   int64         \n",
            "dtypes: datetime64[ns](1), float64(5), int64(5)\n",
            "memory usage: 424.4 KB\n"
          ]
        }
      ],
      "source": [
        "df.info()"
      ]
    },
    {
      "cell_type": "code",
      "execution_count": 9,
      "metadata": {
        "id": "hKDP0zWsPWrT"
      },
      "outputs": [],
      "source": [
        "df['Previous Close'] = df['Close'].shift(1)\n",
        "df['Price Volatility'] = df['High'] - df['Low']\n",
        "df['30-Day Moving Average'] = df['Close'].rolling(window=30).mean()\n",
        "df['180-Day Moving Average'] = df['Close'].rolling(window=180).mean()"
      ]
    },
    {
      "cell_type": "code",
      "execution_count": 10,
      "metadata": {
        "id": "YOERX1o7SCx5"
      },
      "outputs": [],
      "source": [
        "def calculate_rsi(data, period=14):\n",
        "    delta = data.diff()\n",
        "    gain = delta.where(delta > 0, 0)\n",
        "    loss = -delta.where(delta < 0, 0)\n",
        "    avg_gain = gain.rolling(window=period).mean()\n",
        "    avg_loss = loss.rolling(window=period).mean()\n",
        "    rs = avg_gain / avg_loss\n",
        "    rsi = 100 - (100 / (1 + rs))\n",
        "    return rsi"
      ]
    },
    {
      "cell_type": "code",
      "execution_count": 11,
      "metadata": {
        "id": "S83QgxTRRa-h"
      },
      "outputs": [],
      "source": [
        "df['RSI'] = calculate_rsi(df['Close'], period=14)"
      ]
    },
    {
      "cell_type": "code",
      "execution_count": 12,
      "metadata": {
        "id": "PHJH217RSGfN"
      },
      "outputs": [],
      "source": [
        "df=df.fillna(0)"
      ]
    },
    {
      "cell_type": "code",
      "execution_count": 13,
      "metadata": {
        "colab": {
          "base_uri": "https://localhost:8080/",
          "height": 327
        },
        "id": "J2R17b_RR6WB",
        "outputId": "d204289a-a215-42d4-fc07-b8263eff44ca"
      },
      "outputs": [
        {
          "data": {
            "text/html": [
              "<div>\n",
              "<style scoped>\n",
              "    .dataframe tbody tr th:only-of-type {\n",
              "        vertical-align: middle;\n",
              "    }\n",
              "\n",
              "    .dataframe tbody tr th {\n",
              "        vertical-align: top;\n",
              "    }\n",
              "\n",
              "    .dataframe thead th {\n",
              "        text-align: right;\n",
              "    }\n",
              "</style>\n",
              "<table border=\"1\" class=\"dataframe\">\n",
              "  <thead>\n",
              "    <tr style=\"text-align: right;\">\n",
              "      <th></th>\n",
              "      <th>Date</th>\n",
              "      <th>Open</th>\n",
              "      <th>High</th>\n",
              "      <th>Low</th>\n",
              "      <th>Close</th>\n",
              "      <th>Adj Close</th>\n",
              "      <th>Volume</th>\n",
              "      <th>Day</th>\n",
              "      <th>Month</th>\n",
              "      <th>Year</th>\n",
              "      <th>Quarter</th>\n",
              "      <th>Previous Close</th>\n",
              "      <th>Price Volatility</th>\n",
              "      <th>30-Day Moving Average</th>\n",
              "      <th>180-Day Moving Average</th>\n",
              "      <th>RSI</th>\n",
              "    </tr>\n",
              "  </thead>\n",
              "  <tbody>\n",
              "    <tr>\n",
              "      <th>0</th>\n",
              "      <td>2002-05-23</td>\n",
              "      <td>1.156429</td>\n",
              "      <td>1.242857</td>\n",
              "      <td>1.145714</td>\n",
              "      <td>1.196429</td>\n",
              "      <td>1.196429</td>\n",
              "      <td>104790000</td>\n",
              "      <td>23</td>\n",
              "      <td>5</td>\n",
              "      <td>2002</td>\n",
              "      <td>2</td>\n",
              "      <td>0.000000</td>\n",
              "      <td>0.097143</td>\n",
              "      <td>0.0</td>\n",
              "      <td>0.0</td>\n",
              "      <td>0.0</td>\n",
              "    </tr>\n",
              "    <tr>\n",
              "      <th>1</th>\n",
              "      <td>2002-05-24</td>\n",
              "      <td>1.214286</td>\n",
              "      <td>1.225000</td>\n",
              "      <td>1.197143</td>\n",
              "      <td>1.210000</td>\n",
              "      <td>1.210000</td>\n",
              "      <td>11104800</td>\n",
              "      <td>24</td>\n",
              "      <td>5</td>\n",
              "      <td>2002</td>\n",
              "      <td>2</td>\n",
              "      <td>1.196429</td>\n",
              "      <td>0.027857</td>\n",
              "      <td>0.0</td>\n",
              "      <td>0.0</td>\n",
              "      <td>0.0</td>\n",
              "    </tr>\n",
              "    <tr>\n",
              "      <th>2</th>\n",
              "      <td>2002-05-28</td>\n",
              "      <td>1.213571</td>\n",
              "      <td>1.232143</td>\n",
              "      <td>1.157143</td>\n",
              "      <td>1.157143</td>\n",
              "      <td>1.157143</td>\n",
              "      <td>6609400</td>\n",
              "      <td>28</td>\n",
              "      <td>5</td>\n",
              "      <td>2002</td>\n",
              "      <td>2</td>\n",
              "      <td>1.210000</td>\n",
              "      <td>0.075000</td>\n",
              "      <td>0.0</td>\n",
              "      <td>0.0</td>\n",
              "      <td>0.0</td>\n",
              "    </tr>\n",
              "    <tr>\n",
              "      <th>3</th>\n",
              "      <td>2002-05-29</td>\n",
              "      <td>1.164286</td>\n",
              "      <td>1.164286</td>\n",
              "      <td>1.085714</td>\n",
              "      <td>1.103571</td>\n",
              "      <td>1.103571</td>\n",
              "      <td>6757800</td>\n",
              "      <td>29</td>\n",
              "      <td>5</td>\n",
              "      <td>2002</td>\n",
              "      <td>2</td>\n",
              "      <td>1.157143</td>\n",
              "      <td>0.078572</td>\n",
              "      <td>0.0</td>\n",
              "      <td>0.0</td>\n",
              "      <td>0.0</td>\n",
              "    </tr>\n",
              "    <tr>\n",
              "      <th>4</th>\n",
              "      <td>2002-05-30</td>\n",
              "      <td>1.107857</td>\n",
              "      <td>1.107857</td>\n",
              "      <td>1.071429</td>\n",
              "      <td>1.071429</td>\n",
              "      <td>1.071429</td>\n",
              "      <td>10154200</td>\n",
              "      <td>30</td>\n",
              "      <td>5</td>\n",
              "      <td>2002</td>\n",
              "      <td>2</td>\n",
              "      <td>1.103571</td>\n",
              "      <td>0.036428</td>\n",
              "      <td>0.0</td>\n",
              "      <td>0.0</td>\n",
              "      <td>0.0</td>\n",
              "    </tr>\n",
              "  </tbody>\n",
              "</table>\n",
              "</div>"
            ],
            "text/plain": [
              "        Date      Open      High       Low     Close  Adj Close     Volume  \\\n",
              "0 2002-05-23  1.156429  1.242857  1.145714  1.196429   1.196429  104790000   \n",
              "1 2002-05-24  1.214286  1.225000  1.197143  1.210000   1.210000   11104800   \n",
              "2 2002-05-28  1.213571  1.232143  1.157143  1.157143   1.157143    6609400   \n",
              "3 2002-05-29  1.164286  1.164286  1.085714  1.103571   1.103571    6757800   \n",
              "4 2002-05-30  1.107857  1.107857  1.071429  1.071429   1.071429   10154200   \n",
              "\n",
              "   Day  Month  Year  Quarter  Previous Close  Price Volatility  \\\n",
              "0   23      5  2002        2        0.000000          0.097143   \n",
              "1   24      5  2002        2        1.196429          0.027857   \n",
              "2   28      5  2002        2        1.210000          0.075000   \n",
              "3   29      5  2002        2        1.157143          0.078572   \n",
              "4   30      5  2002        2        1.103571          0.036428   \n",
              "\n",
              "   30-Day Moving Average  180-Day Moving Average  RSI  \n",
              "0                    0.0                     0.0  0.0  \n",
              "1                    0.0                     0.0  0.0  \n",
              "2                    0.0                     0.0  0.0  \n",
              "3                    0.0                     0.0  0.0  \n",
              "4                    0.0                     0.0  0.0  "
            ]
          },
          "execution_count": 13,
          "metadata": {},
          "output_type": "execute_result"
        }
      ],
      "source": [
        "df.head()"
      ]
    },
    {
      "cell_type": "code",
      "execution_count": 14,
      "metadata": {
        "colab": {
          "base_uri": "https://localhost:8080/",
          "height": 730
        },
        "id": "hV_uaIVuSMzd",
        "outputId": "1ec128dd-f598-49cb-85c9-6cbf8f347882"
      },
      "outputs": [
        {
          "name": "stderr",
          "output_type": "stream",
          "text": [
            "C:\\Users\\KIIT\\AppData\\Local\\Temp\\ipykernel_13892\\1134722465.py:1: FutureWarning: The default value of numeric_only in DataFrame.corr is deprecated. In a future version, it will default to False. Select only valid columns or specify the value of numeric_only to silence this warning.\n",
            "  df.corr()\n"
          ]
        },
        {
          "data": {
            "text/html": [
              "<div>\n",
              "<style scoped>\n",
              "    .dataframe tbody tr th:only-of-type {\n",
              "        vertical-align: middle;\n",
              "    }\n",
              "\n",
              "    .dataframe tbody tr th {\n",
              "        vertical-align: top;\n",
              "    }\n",
              "\n",
              "    .dataframe thead th {\n",
              "        text-align: right;\n",
              "    }\n",
              "</style>\n",
              "<table border=\"1\" class=\"dataframe\">\n",
              "  <thead>\n",
              "    <tr style=\"text-align: right;\">\n",
              "      <th></th>\n",
              "      <th>Open</th>\n",
              "      <th>High</th>\n",
              "      <th>Low</th>\n",
              "      <th>Close</th>\n",
              "      <th>Adj Close</th>\n",
              "      <th>Volume</th>\n",
              "      <th>Day</th>\n",
              "      <th>Month</th>\n",
              "      <th>Year</th>\n",
              "      <th>Quarter</th>\n",
              "      <th>Previous Close</th>\n",
              "      <th>Price Volatility</th>\n",
              "      <th>30-Day Moving Average</th>\n",
              "      <th>180-Day Moving Average</th>\n",
              "      <th>RSI</th>\n",
              "    </tr>\n",
              "  </thead>\n",
              "  <tbody>\n",
              "    <tr>\n",
              "      <th>Open</th>\n",
              "      <td>1.000000</td>\n",
              "      <td>0.999871</td>\n",
              "      <td>0.999866</td>\n",
              "      <td>0.999718</td>\n",
              "      <td>0.999718</td>\n",
              "      <td>-0.259661</td>\n",
              "      <td>0.000331</td>\n",
              "      <td>0.030663</td>\n",
              "      <td>0.809841</td>\n",
              "      <td>0.030846</td>\n",
              "      <td>0.999865</td>\n",
              "      <td>0.843286</td>\n",
              "      <td>0.997416</td>\n",
              "      <td>0.987774</td>\n",
              "      <td>0.032457</td>\n",
              "    </tr>\n",
              "    <tr>\n",
              "      <th>High</th>\n",
              "      <td>0.999871</td>\n",
              "      <td>1.000000</td>\n",
              "      <td>0.999830</td>\n",
              "      <td>0.999872</td>\n",
              "      <td>0.999872</td>\n",
              "      <td>-0.258408</td>\n",
              "      <td>0.000161</td>\n",
              "      <td>0.030360</td>\n",
              "      <td>0.810137</td>\n",
              "      <td>0.030604</td>\n",
              "      <td>0.999759</td>\n",
              "      <td>0.848115</td>\n",
              "      <td>0.997422</td>\n",
              "      <td>0.987765</td>\n",
              "      <td>0.033122</td>\n",
              "    </tr>\n",
              "    <tr>\n",
              "      <th>Low</th>\n",
              "      <td>0.999866</td>\n",
              "      <td>0.999830</td>\n",
              "      <td>1.000000</td>\n",
              "      <td>0.999870</td>\n",
              "      <td>0.999870</td>\n",
              "      <td>-0.260859</td>\n",
              "      <td>0.000430</td>\n",
              "      <td>0.030607</td>\n",
              "      <td>0.809697</td>\n",
              "      <td>0.030742</td>\n",
              "      <td>0.999737</td>\n",
              "      <td>0.838197</td>\n",
              "      <td>0.997299</td>\n",
              "      <td>0.987860</td>\n",
              "      <td>0.034410</td>\n",
              "    </tr>\n",
              "    <tr>\n",
              "      <th>Close</th>\n",
              "      <td>0.999718</td>\n",
              "      <td>0.999872</td>\n",
              "      <td>0.999870</td>\n",
              "      <td>1.000000</td>\n",
              "      <td>1.000000</td>\n",
              "      <td>-0.259535</td>\n",
              "      <td>0.000109</td>\n",
              "      <td>0.030301</td>\n",
              "      <td>0.810012</td>\n",
              "      <td>0.030538</td>\n",
              "      <td>0.999587</td>\n",
              "      <td>0.843185</td>\n",
              "      <td>0.997267</td>\n",
              "      <td>0.987744</td>\n",
              "      <td>0.034926</td>\n",
              "    </tr>\n",
              "    <tr>\n",
              "      <th>Adj Close</th>\n",
              "      <td>0.999718</td>\n",
              "      <td>0.999872</td>\n",
              "      <td>0.999870</td>\n",
              "      <td>1.000000</td>\n",
              "      <td>1.000000</td>\n",
              "      <td>-0.259535</td>\n",
              "      <td>0.000109</td>\n",
              "      <td>0.030301</td>\n",
              "      <td>0.810012</td>\n",
              "      <td>0.030538</td>\n",
              "      <td>0.999587</td>\n",
              "      <td>0.843185</td>\n",
              "      <td>0.997267</td>\n",
              "      <td>0.987744</td>\n",
              "      <td>0.034926</td>\n",
              "    </tr>\n",
              "    <tr>\n",
              "      <th>Volume</th>\n",
              "      <td>-0.259661</td>\n",
              "      <td>-0.258408</td>\n",
              "      <td>-0.260859</td>\n",
              "      <td>-0.259535</td>\n",
              "      <td>-0.259535</td>\n",
              "      <td>1.000000</td>\n",
              "      <td>0.029843</td>\n",
              "      <td>-0.052029</td>\n",
              "      <td>-0.102428</td>\n",
              "      <td>-0.022313</td>\n",
              "      <td>-0.259648</td>\n",
              "      <td>-0.147486</td>\n",
              "      <td>-0.259215</td>\n",
              "      <td>-0.256113</td>\n",
              "      <td>-0.018400</td>\n",
              "    </tr>\n",
              "    <tr>\n",
              "      <th>Day</th>\n",
              "      <td>0.000331</td>\n",
              "      <td>0.000161</td>\n",
              "      <td>0.000430</td>\n",
              "      <td>0.000109</td>\n",
              "      <td>0.000109</td>\n",
              "      <td>0.029843</td>\n",
              "      <td>1.000000</td>\n",
              "      <td>-0.003164</td>\n",
              "      <td>-0.003861</td>\n",
              "      <td>0.001897</td>\n",
              "      <td>0.000247</td>\n",
              "      <td>-0.007588</td>\n",
              "      <td>0.001574</td>\n",
              "      <td>0.002542</td>\n",
              "      <td>-0.013355</td>\n",
              "    </tr>\n",
              "    <tr>\n",
              "      <th>Month</th>\n",
              "      <td>0.030663</td>\n",
              "      <td>0.030360</td>\n",
              "      <td>0.030607</td>\n",
              "      <td>0.030301</td>\n",
              "      <td>0.030301</td>\n",
              "      <td>-0.052029</td>\n",
              "      <td>-0.003164</td>\n",
              "      <td>1.000000</td>\n",
              "      <td>-0.036828</td>\n",
              "      <td>0.970788</td>\n",
              "      <td>0.030920</td>\n",
              "      <td>0.018515</td>\n",
              "      <td>0.039941</td>\n",
              "      <td>0.046542</td>\n",
              "      <td>-0.073198</td>\n",
              "    </tr>\n",
              "    <tr>\n",
              "      <th>Year</th>\n",
              "      <td>0.809841</td>\n",
              "      <td>0.810137</td>\n",
              "      <td>0.809697</td>\n",
              "      <td>0.810012</td>\n",
              "      <td>0.810012</td>\n",
              "      <td>-0.102428</td>\n",
              "      <td>-0.003861</td>\n",
              "      <td>-0.036828</td>\n",
              "      <td>1.000000</td>\n",
              "      <td>-0.035609</td>\n",
              "      <td>0.809868</td>\n",
              "      <td>0.695753</td>\n",
              "      <td>0.809266</td>\n",
              "      <td>0.807425</td>\n",
              "      <td>0.049906</td>\n",
              "    </tr>\n",
              "    <tr>\n",
              "      <th>Quarter</th>\n",
              "      <td>0.030846</td>\n",
              "      <td>0.030604</td>\n",
              "      <td>0.030742</td>\n",
              "      <td>0.030538</td>\n",
              "      <td>0.030538</td>\n",
              "      <td>-0.022313</td>\n",
              "      <td>0.001897</td>\n",
              "      <td>0.970788</td>\n",
              "      <td>-0.035609</td>\n",
              "      <td>1.000000</td>\n",
              "      <td>0.031091</td>\n",
              "      <td>0.021851</td>\n",
              "      <td>0.038882</td>\n",
              "      <td>0.045625</td>\n",
              "      <td>-0.063672</td>\n",
              "    </tr>\n",
              "    <tr>\n",
              "      <th>Previous Close</th>\n",
              "      <td>0.999865</td>\n",
              "      <td>0.999759</td>\n",
              "      <td>0.999737</td>\n",
              "      <td>0.999587</td>\n",
              "      <td>0.999587</td>\n",
              "      <td>-0.259648</td>\n",
              "      <td>0.000247</td>\n",
              "      <td>0.030920</td>\n",
              "      <td>0.809868</td>\n",
              "      <td>0.031091</td>\n",
              "      <td>1.000000</td>\n",
              "      <td>0.843665</td>\n",
              "      <td>0.997513</td>\n",
              "      <td>0.987913</td>\n",
              "      <td>0.031228</td>\n",
              "    </tr>\n",
              "    <tr>\n",
              "      <th>Price Volatility</th>\n",
              "      <td>0.843286</td>\n",
              "      <td>0.848115</td>\n",
              "      <td>0.838197</td>\n",
              "      <td>0.843185</td>\n",
              "      <td>0.843185</td>\n",
              "      <td>-0.147486</td>\n",
              "      <td>-0.007588</td>\n",
              "      <td>0.018515</td>\n",
              "      <td>0.695753</td>\n",
              "      <td>0.021851</td>\n",
              "      <td>0.843665</td>\n",
              "      <td>1.000000</td>\n",
              "      <td>0.844564</td>\n",
              "      <td>0.830182</td>\n",
              "      <td>-0.009052</td>\n",
              "    </tr>\n",
              "    <tr>\n",
              "      <th>30-Day Moving Average</th>\n",
              "      <td>0.997416</td>\n",
              "      <td>0.997422</td>\n",
              "      <td>0.997299</td>\n",
              "      <td>0.997267</td>\n",
              "      <td>0.997267</td>\n",
              "      <td>-0.259215</td>\n",
              "      <td>0.001574</td>\n",
              "      <td>0.039941</td>\n",
              "      <td>0.809266</td>\n",
              "      <td>0.038882</td>\n",
              "      <td>0.997513</td>\n",
              "      <td>0.844564</td>\n",
              "      <td>1.000000</td>\n",
              "      <td>0.991457</td>\n",
              "      <td>-0.000722</td>\n",
              "    </tr>\n",
              "    <tr>\n",
              "      <th>180-Day Moving Average</th>\n",
              "      <td>0.987774</td>\n",
              "      <td>0.987765</td>\n",
              "      <td>0.987860</td>\n",
              "      <td>0.987744</td>\n",
              "      <td>0.987744</td>\n",
              "      <td>-0.256113</td>\n",
              "      <td>0.002542</td>\n",
              "      <td>0.046542</td>\n",
              "      <td>0.807425</td>\n",
              "      <td>0.045625</td>\n",
              "      <td>0.987913</td>\n",
              "      <td>0.830182</td>\n",
              "      <td>0.991457</td>\n",
              "      <td>1.000000</td>\n",
              "      <td>-0.005904</td>\n",
              "    </tr>\n",
              "    <tr>\n",
              "      <th>RSI</th>\n",
              "      <td>0.032457</td>\n",
              "      <td>0.033122</td>\n",
              "      <td>0.034410</td>\n",
              "      <td>0.034926</td>\n",
              "      <td>0.034926</td>\n",
              "      <td>-0.018400</td>\n",
              "      <td>-0.013355</td>\n",
              "      <td>-0.073198</td>\n",
              "      <td>0.049906</td>\n",
              "      <td>-0.063672</td>\n",
              "      <td>0.031228</td>\n",
              "      <td>-0.009052</td>\n",
              "      <td>-0.000722</td>\n",
              "      <td>-0.005904</td>\n",
              "      <td>1.000000</td>\n",
              "    </tr>\n",
              "  </tbody>\n",
              "</table>\n",
              "</div>"
            ],
            "text/plain": [
              "                            Open      High       Low     Close  Adj Close  \\\n",
              "Open                    1.000000  0.999871  0.999866  0.999718   0.999718   \n",
              "High                    0.999871  1.000000  0.999830  0.999872   0.999872   \n",
              "Low                     0.999866  0.999830  1.000000  0.999870   0.999870   \n",
              "Close                   0.999718  0.999872  0.999870  1.000000   1.000000   \n",
              "Adj Close               0.999718  0.999872  0.999870  1.000000   1.000000   \n",
              "Volume                 -0.259661 -0.258408 -0.260859 -0.259535  -0.259535   \n",
              "Day                     0.000331  0.000161  0.000430  0.000109   0.000109   \n",
              "Month                   0.030663  0.030360  0.030607  0.030301   0.030301   \n",
              "Year                    0.809841  0.810137  0.809697  0.810012   0.810012   \n",
              "Quarter                 0.030846  0.030604  0.030742  0.030538   0.030538   \n",
              "Previous Close          0.999865  0.999759  0.999737  0.999587   0.999587   \n",
              "Price Volatility        0.843286  0.848115  0.838197  0.843185   0.843185   \n",
              "30-Day Moving Average   0.997416  0.997422  0.997299  0.997267   0.997267   \n",
              "180-Day Moving Average  0.987774  0.987765  0.987860  0.987744   0.987744   \n",
              "RSI                     0.032457  0.033122  0.034410  0.034926   0.034926   \n",
              "\n",
              "                          Volume       Day     Month      Year   Quarter  \\\n",
              "Open                   -0.259661  0.000331  0.030663  0.809841  0.030846   \n",
              "High                   -0.258408  0.000161  0.030360  0.810137  0.030604   \n",
              "Low                    -0.260859  0.000430  0.030607  0.809697  0.030742   \n",
              "Close                  -0.259535  0.000109  0.030301  0.810012  0.030538   \n",
              "Adj Close              -0.259535  0.000109  0.030301  0.810012  0.030538   \n",
              "Volume                  1.000000  0.029843 -0.052029 -0.102428 -0.022313   \n",
              "Day                     0.029843  1.000000 -0.003164 -0.003861  0.001897   \n",
              "Month                  -0.052029 -0.003164  1.000000 -0.036828  0.970788   \n",
              "Year                   -0.102428 -0.003861 -0.036828  1.000000 -0.035609   \n",
              "Quarter                -0.022313  0.001897  0.970788 -0.035609  1.000000   \n",
              "Previous Close         -0.259648  0.000247  0.030920  0.809868  0.031091   \n",
              "Price Volatility       -0.147486 -0.007588  0.018515  0.695753  0.021851   \n",
              "30-Day Moving Average  -0.259215  0.001574  0.039941  0.809266  0.038882   \n",
              "180-Day Moving Average -0.256113  0.002542  0.046542  0.807425  0.045625   \n",
              "RSI                    -0.018400 -0.013355 -0.073198  0.049906 -0.063672   \n",
              "\n",
              "                        Previous Close  Price Volatility  \\\n",
              "Open                          0.999865          0.843286   \n",
              "High                          0.999759          0.848115   \n",
              "Low                           0.999737          0.838197   \n",
              "Close                         0.999587          0.843185   \n",
              "Adj Close                     0.999587          0.843185   \n",
              "Volume                       -0.259648         -0.147486   \n",
              "Day                           0.000247         -0.007588   \n",
              "Month                         0.030920          0.018515   \n",
              "Year                          0.809868          0.695753   \n",
              "Quarter                       0.031091          0.021851   \n",
              "Previous Close                1.000000          0.843665   \n",
              "Price Volatility              0.843665          1.000000   \n",
              "30-Day Moving Average         0.997513          0.844564   \n",
              "180-Day Moving Average        0.987913          0.830182   \n",
              "RSI                           0.031228         -0.009052   \n",
              "\n",
              "                        30-Day Moving Average  180-Day Moving Average  \\\n",
              "Open                                 0.997416                0.987774   \n",
              "High                                 0.997422                0.987765   \n",
              "Low                                  0.997299                0.987860   \n",
              "Close                                0.997267                0.987744   \n",
              "Adj Close                            0.997267                0.987744   \n",
              "Volume                              -0.259215               -0.256113   \n",
              "Day                                  0.001574                0.002542   \n",
              "Month                                0.039941                0.046542   \n",
              "Year                                 0.809266                0.807425   \n",
              "Quarter                              0.038882                0.045625   \n",
              "Previous Close                       0.997513                0.987913   \n",
              "Price Volatility                     0.844564                0.830182   \n",
              "30-Day Moving Average                1.000000                0.991457   \n",
              "180-Day Moving Average               0.991457                1.000000   \n",
              "RSI                                 -0.000722               -0.005904   \n",
              "\n",
              "                             RSI  \n",
              "Open                    0.032457  \n",
              "High                    0.033122  \n",
              "Low                     0.034410  \n",
              "Close                   0.034926  \n",
              "Adj Close               0.034926  \n",
              "Volume                 -0.018400  \n",
              "Day                    -0.013355  \n",
              "Month                  -0.073198  \n",
              "Year                    0.049906  \n",
              "Quarter                -0.063672  \n",
              "Previous Close          0.031228  \n",
              "Price Volatility       -0.009052  \n",
              "30-Day Moving Average  -0.000722  \n",
              "180-Day Moving Average -0.005904  \n",
              "RSI                     1.000000  "
            ]
          },
          "execution_count": 14,
          "metadata": {},
          "output_type": "execute_result"
        }
      ],
      "source": [
        "df.corr()"
      ]
    },
    {
      "cell_type": "code",
      "execution_count": 15,
      "metadata": {
        "colab": {
          "base_uri": "https://localhost:8080/"
        },
        "id": "jvjmqVfPTRz2",
        "outputId": "7b67b5fe-b9c9-461f-8e81-7070bcc9dd23"
      },
      "outputs": [
        {
          "data": {
            "text/plain": [
              "Index(['Date', 'Open', 'High', 'Low', 'Close', 'Adj Close', 'Volume', 'Day',\n",
              "       'Month', 'Year', 'Quarter', 'Previous Close', 'Price Volatility',\n",
              "       '30-Day Moving Average', '180-Day Moving Average', 'RSI'],\n",
              "      dtype='object')"
            ]
          },
          "execution_count": 15,
          "metadata": {},
          "output_type": "execute_result"
        }
      ],
      "source": [
        "df.columns"
      ]
    },
    {
      "cell_type": "code",
      "execution_count": 16,
      "metadata": {
        "id": "YnaqGWmXScim"
      },
      "outputs": [],
      "source": [
        "from sklearn.model_selection import train_test_split\n",
        "X=df[['Volume', 'Year', 'Price Volatility','180-Day Moving Average']]\n",
        "y=df['Open']"
      ]
    },
    {
      "cell_type": "code",
      "execution_count": 17,
      "metadata": {
        "id": "CQU3nzLbT6C0"
      },
      "outputs": [],
      "source": [
        "from sklearn.preprocessing import StandardScaler\n",
        "sc = StandardScaler()\n",
        "X_scaled = sc.fit_transform(X)\n",
        "y_scaled = sc.fit_transform(y.values.reshape(-1, 1))"
      ]
    },
    {
      "cell_type": "code",
      "execution_count": 18,
      "metadata": {
        "id": "DJzyBrNiTSk0"
      },
      "outputs": [],
      "source": [
        "X_train, X_test, y_train, y_test = train_test_split(X_scaled, y_scaled, test_size=0.25, random_state=42)"
      ]
    },
    {
      "cell_type": "code",
      "execution_count": 19,
      "metadata": {
        "id": "Qx8lbqAfUMg1"
      },
      "outputs": [],
      "source": [
        "from sklearn.linear_model import LinearRegression\n",
        "lr_model = LinearRegression()\n",
        "lr_model.fit(X_train, y_train)\n",
        "lr_predictions = lr_model.predict(X_test)"
      ]
    },
    {
      "cell_type": "code",
      "execution_count": 20,
      "metadata": {
        "id": "hzP2Y1gdUbbO"
      },
      "outputs": [],
      "source": [
        "import xgboost as xgb\n",
        "xgb_model = xgb.XGBRegressor()\n",
        "xgb_model.fit(X_train, y_train)\n",
        "xgb_predictions = xgb_model.predict(X_test)"
      ]
    },
    {
      "cell_type": "code",
      "execution_count": 21,
      "metadata": {
        "colab": {
          "base_uri": "https://localhost:8080/"
        },
        "id": "zD5OsdBRUdxU",
        "outputId": "5746fee0-9e0b-49f0-d8f8-1b13cdacc6b8"
      },
      "outputs": [
        {
          "name": "stderr",
          "output_type": "stream",
          "text": [
            "C:\\Users\\KIIT\\AppData\\Local\\Temp\\ipykernel_13892\\1724067540.py:3: DataConversionWarning: A column-vector y was passed when a 1d array was expected. Please change the shape of y to (n_samples,), for example using ravel().\n",
            "  rf_model.fit(X_train, y_train)\n"
          ]
        }
      ],
      "source": [
        "from sklearn.ensemble import RandomForestRegressor\n",
        "rf_model = RandomForestRegressor()\n",
        "rf_model.fit(X_train, y_train)\n",
        "rf_predictions = rf_model.predict(X_test)"
      ]
    },
    {
      "cell_type": "code",
      "execution_count": 22,
      "metadata": {
        "colab": {
          "base_uri": "https://localhost:8080/"
        },
        "id": "TrrtmOd6Uf-q",
        "outputId": "f7ed7fe3-b7d4-4739-81cc-71bcd7e38477"
      },
      "outputs": [
        {
          "name": "stderr",
          "output_type": "stream",
          "text": [
            "c:\\Users\\KIIT\\AppData\\Local\\Programs\\Python\\Python311\\Lib\\site-packages\\sklearn\\utils\\validation.py:1143: DataConversionWarning: A column-vector y was passed when a 1d array was expected. Please change the shape of y to (n_samples, ), for example using ravel().\n",
            "  y = column_or_1d(y, warn=True)\n"
          ]
        }
      ],
      "source": [
        "from sklearn.ensemble import AdaBoostRegressor\n",
        "adaboost_model = AdaBoostRegressor()\n",
        "adaboost_model.fit(X_train, y_train)\n",
        "adaboost_predictions = adaboost_model.predict(X_test)"
      ]
    },
    {
      "cell_type": "code",
      "execution_count": 23,
      "metadata": {
        "colab": {
          "base_uri": "https://localhost:8080/"
        },
        "id": "7sQsHgMfUi2k",
        "outputId": "f25d13ff-7f12-4c39-9ef6-e6f6531cf80b"
      },
      "outputs": [
        {
          "name": "stderr",
          "output_type": "stream",
          "text": [
            "c:\\Users\\KIIT\\AppData\\Local\\Programs\\Python\\Python311\\Lib\\site-packages\\sklearn\\utils\\validation.py:1143: DataConversionWarning: A column-vector y was passed when a 1d array was expected. Please change the shape of y to (n_samples, ), for example using ravel().\n",
            "  y = column_or_1d(y, warn=True)\n"
          ]
        }
      ],
      "source": [
        "from sklearn.svm import SVR\n",
        "svm_model = SVR()\n",
        "svm_model.fit(X_train, y_train)\n",
        "svm_predictions = svm_model.predict(X_test)"
      ]
    },
    {
      "cell_type": "code",
      "execution_count": 24,
      "metadata": {
        "id": "HRo7IPzPUqPW"
      },
      "outputs": [],
      "source": [
        "from sklearn.metrics import r2_score, mean_squared_error\n",
        "def rmse(y_true, y_pred):\n",
        "    return np.sqrt(mean_squared_error(y_true, y_pred))\n",
        "\n",
        "metrics = {\n",
        "    'Model': [],\n",
        "    'R2 Score': [],\n",
        "    'MSE': [],\n",
        "    'RMSE': []\n",
        "}\n",
        "\n",
        "models = ['Linear Regression', 'XGBoost', 'Random Forest', 'Logistic Regression', 'AdaBoost', 'SVM']\n",
        "predictions = [lr_predictions, xgb_predictions, rf_predictions, adaboost_predictions, svm_predictions]\n",
        "\n",
        "for model, y_pred in zip(models, predictions):\n",
        "    r2 = r2_score(y_test, y_pred)\n",
        "    mse = mean_squared_error(y_test, y_pred)\n",
        "    root_mse = rmse(y_test, y_pred)\n",
        "\n",
        "    metrics['Model'].append(model)\n",
        "    metrics['R2 Score'].append(r2)\n",
        "    metrics['MSE'].append(mse)\n",
        "    metrics['RMSE'].append(root_mse)\n",
        "\n",
        "met = pd.DataFrame(metrics)"
      ]
    },
    {
      "cell_type": "code",
      "execution_count": 25,
      "metadata": {
        "colab": {
          "base_uri": "https://localhost:8080/",
          "height": 206
        },
        "id": "Ale_zCAbU9KW",
        "outputId": "b3ce4f5a-c1ed-4d34-af80-1768e89f9389"
      },
      "outputs": [
        {
          "data": {
            "text/html": [
              "<div>\n",
              "<style scoped>\n",
              "    .dataframe tbody tr th:only-of-type {\n",
              "        vertical-align: middle;\n",
              "    }\n",
              "\n",
              "    .dataframe tbody tr th {\n",
              "        vertical-align: top;\n",
              "    }\n",
              "\n",
              "    .dataframe thead th {\n",
              "        text-align: right;\n",
              "    }\n",
              "</style>\n",
              "<table border=\"1\" class=\"dataframe\">\n",
              "  <thead>\n",
              "    <tr style=\"text-align: right;\">\n",
              "      <th></th>\n",
              "      <th>Model</th>\n",
              "      <th>R2 Score</th>\n",
              "      <th>MSE</th>\n",
              "      <th>RMSE</th>\n",
              "    </tr>\n",
              "  </thead>\n",
              "  <tbody>\n",
              "    <tr>\n",
              "      <th>0</th>\n",
              "      <td>Linear Regression</td>\n",
              "      <td>0.978013</td>\n",
              "      <td>0.022841</td>\n",
              "      <td>0.151133</td>\n",
              "    </tr>\n",
              "    <tr>\n",
              "      <th>1</th>\n",
              "      <td>XGBoost</td>\n",
              "      <td>0.996240</td>\n",
              "      <td>0.003906</td>\n",
              "      <td>0.062497</td>\n",
              "    </tr>\n",
              "    <tr>\n",
              "      <th>2</th>\n",
              "      <td>Random Forest</td>\n",
              "      <td>0.996820</td>\n",
              "      <td>0.003303</td>\n",
              "      <td>0.057474</td>\n",
              "    </tr>\n",
              "    <tr>\n",
              "      <th>3</th>\n",
              "      <td>Logistic Regression</td>\n",
              "      <td>0.987816</td>\n",
              "      <td>0.012657</td>\n",
              "      <td>0.112505</td>\n",
              "    </tr>\n",
              "    <tr>\n",
              "      <th>4</th>\n",
              "      <td>AdaBoost</td>\n",
              "      <td>0.982150</td>\n",
              "      <td>0.018543</td>\n",
              "      <td>0.136174</td>\n",
              "    </tr>\n",
              "  </tbody>\n",
              "</table>\n",
              "</div>"
            ],
            "text/plain": [
              "                 Model  R2 Score       MSE      RMSE\n",
              "0    Linear Regression  0.978013  0.022841  0.151133\n",
              "1              XGBoost  0.996240  0.003906  0.062497\n",
              "2        Random Forest  0.996820  0.003303  0.057474\n",
              "3  Logistic Regression  0.987816  0.012657  0.112505\n",
              "4             AdaBoost  0.982150  0.018543  0.136174"
            ]
          },
          "execution_count": 25,
          "metadata": {},
          "output_type": "execute_result"
        }
      ],
      "source": [
        "met"
      ]
    },
    {
      "cell_type": "code",
      "execution_count": 26,
      "metadata": {
        "id": "hLkadu5gU-AF"
      },
      "outputs": [],
      "source": [
        "#here we can see that it is an overfit model, we can improve it using traditional ML algos, hyper paramter tunning etc\n",
        "#but will try with RNN LSTM and time series analysis"
      ]
    },
    {
      "cell_type": "code",
      "execution_count": 27,
      "metadata": {
        "id": "319aDVH8oUx_"
      },
      "outputs": [],
      "source": [
        "df=pd.read_csv(\"NetflixStocks.csv\")"
      ]
    },
    {
      "cell_type": "code",
      "execution_count": 28,
      "metadata": {
        "colab": {
          "base_uri": "https://localhost:8080/",
          "height": 206
        },
        "id": "H25dXzdKoXWH",
        "outputId": "65deb330-5852-40e5-e6fb-f838131f66be"
      },
      "outputs": [
        {
          "data": {
            "text/html": [
              "<div>\n",
              "<style scoped>\n",
              "    .dataframe tbody tr th:only-of-type {\n",
              "        vertical-align: middle;\n",
              "    }\n",
              "\n",
              "    .dataframe tbody tr th {\n",
              "        vertical-align: top;\n",
              "    }\n",
              "\n",
              "    .dataframe thead th {\n",
              "        text-align: right;\n",
              "    }\n",
              "</style>\n",
              "<table border=\"1\" class=\"dataframe\">\n",
              "  <thead>\n",
              "    <tr style=\"text-align: right;\">\n",
              "      <th></th>\n",
              "      <th>Date</th>\n",
              "      <th>Open</th>\n",
              "      <th>High</th>\n",
              "      <th>Low</th>\n",
              "      <th>Close</th>\n",
              "      <th>Adj Close</th>\n",
              "      <th>Volume</th>\n",
              "    </tr>\n",
              "  </thead>\n",
              "  <tbody>\n",
              "    <tr>\n",
              "      <th>0</th>\n",
              "      <td>5/23/2002</td>\n",
              "      <td>1.156429</td>\n",
              "      <td>1.242857</td>\n",
              "      <td>1.145714</td>\n",
              "      <td>1.196429</td>\n",
              "      <td>1.196429</td>\n",
              "      <td>104790000</td>\n",
              "    </tr>\n",
              "    <tr>\n",
              "      <th>1</th>\n",
              "      <td>5/24/2002</td>\n",
              "      <td>1.214286</td>\n",
              "      <td>1.225000</td>\n",
              "      <td>1.197143</td>\n",
              "      <td>1.210000</td>\n",
              "      <td>1.210000</td>\n",
              "      <td>11104800</td>\n",
              "    </tr>\n",
              "    <tr>\n",
              "      <th>2</th>\n",
              "      <td>5/28/2002</td>\n",
              "      <td>1.213571</td>\n",
              "      <td>1.232143</td>\n",
              "      <td>1.157143</td>\n",
              "      <td>1.157143</td>\n",
              "      <td>1.157143</td>\n",
              "      <td>6609400</td>\n",
              "    </tr>\n",
              "    <tr>\n",
              "      <th>3</th>\n",
              "      <td>5/29/2002</td>\n",
              "      <td>1.164286</td>\n",
              "      <td>1.164286</td>\n",
              "      <td>1.085714</td>\n",
              "      <td>1.103571</td>\n",
              "      <td>1.103571</td>\n",
              "      <td>6757800</td>\n",
              "    </tr>\n",
              "    <tr>\n",
              "      <th>4</th>\n",
              "      <td>5/30/2002</td>\n",
              "      <td>1.107857</td>\n",
              "      <td>1.107857</td>\n",
              "      <td>1.071429</td>\n",
              "      <td>1.071429</td>\n",
              "      <td>1.071429</td>\n",
              "      <td>10154200</td>\n",
              "    </tr>\n",
              "  </tbody>\n",
              "</table>\n",
              "</div>"
            ],
            "text/plain": [
              "        Date      Open      High       Low     Close  Adj Close     Volume\n",
              "0  5/23/2002  1.156429  1.242857  1.145714  1.196429   1.196429  104790000\n",
              "1  5/24/2002  1.214286  1.225000  1.197143  1.210000   1.210000   11104800\n",
              "2  5/28/2002  1.213571  1.232143  1.157143  1.157143   1.157143    6609400\n",
              "3  5/29/2002  1.164286  1.164286  1.085714  1.103571   1.103571    6757800\n",
              "4  5/30/2002  1.107857  1.107857  1.071429  1.071429   1.071429   10154200"
            ]
          },
          "execution_count": 28,
          "metadata": {},
          "output_type": "execute_result"
        }
      ],
      "source": [
        "df.head()"
      ]
    },
    {
      "cell_type": "code",
      "execution_count": 29,
      "metadata": {
        "colab": {
          "base_uri": "https://localhost:8080/"
        },
        "id": "OAefDxeAoX-_",
        "outputId": "ee6e2799-071f-4618-a7ed-2458f7747510"
      },
      "outputs": [
        {
          "data": {
            "text/plain": [
              "3703"
            ]
          },
          "execution_count": 29,
          "metadata": {},
          "output_type": "execute_result"
        }
      ],
      "source": [
        "data = df.filter(['Close'])\n",
        "# Convert the dataframe to a numpy array\n",
        "dataset = data.values\n",
        "# Get the number of rows to train the model on\n",
        "training_data_len = int(np.ceil( len(dataset) * .75 ))\n",
        "\n",
        "training_data_len"
      ]
    },
    {
      "cell_type": "code",
      "execution_count": 30,
      "metadata": {
        "colab": {
          "base_uri": "https://localhost:8080/"
        },
        "id": "nrMCYj7ppINS",
        "outputId": "ab2f6ae2-4358-4f4f-a168-e2cd5fe4dd37"
      },
      "outputs": [
        {
          "data": {
            "text/plain": [
              "array([[0.00119131],\n",
              "       [0.00121094],\n",
              "       [0.00113448],\n",
              "       ...,\n",
              "       [0.88286132],\n",
              "       [0.88261535],\n",
              "       [0.88485751]])"
            ]
          },
          "execution_count": 30,
          "metadata": {},
          "output_type": "execute_result"
        }
      ],
      "source": [
        "from sklearn.preprocessing import MinMaxScaler\n",
        "\n",
        "scaler = MinMaxScaler(feature_range=(0,1))\n",
        "scaled_data = scaler.fit_transform(dataset)\n",
        "\n",
        "scaled_data"
      ]
    },
    {
      "cell_type": "code",
      "execution_count": 31,
      "metadata": {
        "colab": {
          "base_uri": "https://localhost:8080/"
        },
        "id": "PcZgeTe0pKiP",
        "outputId": "9ee1366a-3704-4cb2-b069-0c1853f3f8e1"
      },
      "outputs": [
        {
          "name": "stdout",
          "output_type": "stream",
          "text": [
            "[array([0.00119131, 0.00121094, 0.00113448, 0.00105699, 0.00101049,\n",
            "       0.00101773, 0.00109315, 0.00107765, 0.00112002, 0.00117064,\n",
            "       0.00107869, 0.00113345, 0.00112931, 0.00104149, 0.00102703,\n",
            "       0.00088754, 0.00079455, 0.00077802, 0.00083691, 0.00084518,\n",
            "       0.00087721, 0.00087617, 0.00085551, 0.00089064, 0.00082555,\n",
            "       0.00090614, 0.00094747, 0.00115721, 0.00121714, 0.00130703,\n",
            "       0.00116134, 0.00113965, 0.00114378, 0.0012967 , 0.00120784,\n",
            "       0.00111382, 0.00109005, 0.00103632, 0.00112312, 0.00113861,\n",
            "       0.00115411, 0.00111898, 0.00107249, 0.00095987, 0.00072119,\n",
            "       0.00072842, 0.00078318, 0.00084001, 0.00075012, 0.00058584,\n",
            "       0.00058171, 0.00056104, 0.00060857, 0.0006127 , 0.00059927,\n",
            "       0.00055588, 0.00057861, 0.00066643, 0.00073772, 0.00078112])]\n",
            "[0.0008813407918589954]\n",
            "\n",
            "[array([0.00119131, 0.00121094, 0.00113448, 0.00105699, 0.00101049,\n",
            "       0.00101773, 0.00109315, 0.00107765, 0.00112002, 0.00117064,\n",
            "       0.00107869, 0.00113345, 0.00112931, 0.00104149, 0.00102703,\n",
            "       0.00088754, 0.00079455, 0.00077802, 0.00083691, 0.00084518,\n",
            "       0.00087721, 0.00087617, 0.00085551, 0.00089064, 0.00082555,\n",
            "       0.00090614, 0.00094747, 0.00115721, 0.00121714, 0.00130703,\n",
            "       0.00116134, 0.00113965, 0.00114378, 0.0012967 , 0.00120784,\n",
            "       0.00111382, 0.00109005, 0.00103632, 0.00112312, 0.00113861,\n",
            "       0.00115411, 0.00111898, 0.00107249, 0.00095987, 0.00072119,\n",
            "       0.00072842, 0.00078318, 0.00084001, 0.00075012, 0.00058584,\n",
            "       0.00058171, 0.00056104, 0.00060857, 0.0006127 , 0.00059927,\n",
            "       0.00055588, 0.00057861, 0.00066643, 0.00073772, 0.00078112]), array([0.00121094, 0.00113448, 0.00105699, 0.00101049, 0.00101773,\n",
            "       0.00109315, 0.00107765, 0.00112002, 0.00117064, 0.00107869,\n",
            "       0.00113345, 0.00112931, 0.00104149, 0.00102703, 0.00088754,\n",
            "       0.00079455, 0.00077802, 0.00083691, 0.00084518, 0.00087721,\n",
            "       0.00087617, 0.00085551, 0.00089064, 0.00082555, 0.00090614,\n",
            "       0.00094747, 0.00115721, 0.00121714, 0.00130703, 0.00116134,\n",
            "       0.00113965, 0.00114378, 0.0012967 , 0.00120784, 0.00111382,\n",
            "       0.00109005, 0.00103632, 0.00112312, 0.00113861, 0.00115411,\n",
            "       0.00111898, 0.00107249, 0.00095987, 0.00072119, 0.00072842,\n",
            "       0.00078318, 0.00084001, 0.00075012, 0.00058584, 0.00058171,\n",
            "       0.00056104, 0.00060857, 0.0006127 , 0.00059927, 0.00055588,\n",
            "       0.00057861, 0.00066643, 0.00073772, 0.00078112, 0.00088134])]\n",
            "[0.0008813407918589954, 0.0008296799871786775]\n",
            "\n"
          ]
        }
      ],
      "source": [
        "train_data = scaled_data[0:int(training_data_len), :]\n",
        "# Split the data into x_train and y_train data sets\n",
        "x_train = []\n",
        "y_train = []\n",
        "\n",
        "for i in range(60, len(train_data)):\n",
        "    x_train.append(train_data[i-60:i, 0])\n",
        "    y_train.append(train_data[i, 0])\n",
        "    if i<= 61:\n",
        "        print(x_train)\n",
        "        print(y_train)\n",
        "        print()\n",
        "\n",
        "# Convert the x_train and y_train to numpy arrays\n",
        "x_train, y_train = np.array(x_train), np.array(y_train)\n",
        "\n",
        "# Reshape the data\n",
        "x_train = np.reshape(x_train, (x_train.shape[0], x_train.shape[1], 1))"
      ]
    },
    {
      "cell_type": "code",
      "execution_count": 32,
      "metadata": {
        "colab": {
          "base_uri": "https://localhost:8080/"
        },
        "id": "7C7hMC1NpOh1",
        "outputId": "2fa84c80-07c0-4ab6-9302-047ae25f7761"
      },
      "outputs": [
        {
          "name": "stdout",
          "output_type": "stream",
          "text": [
            "Epoch 1/100\n",
            "29/29 [==============================] - 16s 251ms/step - loss: 5.9161e-04\n",
            "Epoch 2/100\n",
            "29/29 [==============================] - 7s 258ms/step - loss: 2.9929e-05\n",
            "Epoch 3/100\n",
            "29/29 [==============================] - 7s 238ms/step - loss: 1.5897e-05\n",
            "Epoch 4/100\n",
            "29/29 [==============================] - 7s 253ms/step - loss: 1.6071e-05\n",
            "Epoch 5/100\n",
            "29/29 [==============================] - 8s 281ms/step - loss: 1.5117e-05\n",
            "Epoch 6/100\n",
            "29/29 [==============================] - 7s 243ms/step - loss: 1.5432e-05\n",
            "Epoch 7/100\n",
            "29/29 [==============================] - 7s 255ms/step - loss: 1.4624e-05\n",
            "Epoch 8/100\n",
            "29/29 [==============================] - 8s 281ms/step - loss: 1.5302e-05\n",
            "Epoch 9/100\n",
            "29/29 [==============================] - 8s 263ms/step - loss: 1.4987e-05\n",
            "Epoch 10/100\n",
            "29/29 [==============================] - 8s 283ms/step - loss: 1.4958e-05\n",
            "Epoch 11/100\n",
            "29/29 [==============================] - 8s 269ms/step - loss: 1.3170e-05\n",
            "Epoch 12/100\n",
            "29/29 [==============================] - 8s 276ms/step - loss: 1.3285e-05\n",
            "Epoch 13/100\n",
            "29/29 [==============================] - 8s 270ms/step - loss: 1.2442e-05\n",
            "Epoch 14/100\n",
            "29/29 [==============================] - 8s 280ms/step - loss: 1.2507e-05\n",
            "Epoch 15/100\n",
            "29/29 [==============================] - 7s 255ms/step - loss: 1.2691e-05\n",
            "Epoch 16/100\n",
            "29/29 [==============================] - 7s 231ms/step - loss: 1.3537e-05\n",
            "Epoch 17/100\n",
            "29/29 [==============================] - 6s 222ms/step - loss: 1.2077e-05\n",
            "Epoch 18/100\n",
            "29/29 [==============================] - 7s 236ms/step - loss: 1.1313e-05\n",
            "Epoch 19/100\n",
            "29/29 [==============================] - 7s 224ms/step - loss: 1.1413e-05\n",
            "Epoch 20/100\n",
            "29/29 [==============================] - 7s 227ms/step - loss: 1.1641e-05\n",
            "Epoch 21/100\n",
            "29/29 [==============================] - 7s 227ms/step - loss: 1.0428e-05\n",
            "Epoch 22/100\n",
            "29/29 [==============================] - 6s 223ms/step - loss: 1.1250e-05\n",
            "Epoch 23/100\n",
            "29/29 [==============================] - 6s 209ms/step - loss: 1.1156e-05\n",
            "Epoch 24/100\n",
            "29/29 [==============================] - 6s 207ms/step - loss: 1.0406e-05\n",
            "Epoch 25/100\n",
            "29/29 [==============================] - 7s 225ms/step - loss: 1.0246e-05\n",
            "Epoch 26/100\n",
            "29/29 [==============================] - 7s 239ms/step - loss: 1.0615e-05\n",
            "Epoch 27/100\n",
            "29/29 [==============================] - 7s 233ms/step - loss: 1.0568e-05\n",
            "Epoch 28/100\n",
            "29/29 [==============================] - 7s 231ms/step - loss: 9.8045e-06\n",
            "Epoch 29/100\n",
            "29/29 [==============================] - 7s 237ms/step - loss: 1.0148e-05\n",
            "Epoch 30/100\n",
            "29/29 [==============================] - 7s 235ms/step - loss: 9.4742e-06\n",
            "Epoch 31/100\n",
            "29/29 [==============================] - 7s 234ms/step - loss: 1.1185e-05\n",
            "Epoch 32/100\n",
            "29/29 [==============================] - 7s 242ms/step - loss: 1.0461e-05\n",
            "Epoch 33/100\n",
            "29/29 [==============================] - 7s 250ms/step - loss: 9.8938e-06\n",
            "Epoch 34/100\n",
            "29/29 [==============================] - 7s 248ms/step - loss: 9.3062e-06\n",
            "Epoch 35/100\n",
            "29/29 [==============================] - 8s 259ms/step - loss: 9.1073e-06\n",
            "Epoch 36/100\n",
            "29/29 [==============================] - 8s 259ms/step - loss: 9.0431e-06\n",
            "Epoch 37/100\n",
            "29/29 [==============================] - 8s 262ms/step - loss: 8.3628e-06\n",
            "Epoch 38/100\n",
            "29/29 [==============================] - 8s 272ms/step - loss: 8.5986e-06\n",
            "Epoch 39/100\n",
            "29/29 [==============================] - 8s 273ms/step - loss: 8.8306e-06\n",
            "Epoch 40/100\n",
            "29/29 [==============================] - 8s 278ms/step - loss: 9.3288e-06\n",
            "Epoch 41/100\n",
            "29/29 [==============================] - 8s 282ms/step - loss: 1.0324e-05\n",
            "Epoch 42/100\n",
            "29/29 [==============================] - 8s 284ms/step - loss: 9.1898e-06\n",
            "Epoch 43/100\n",
            "29/29 [==============================] - 8s 277ms/step - loss: 8.1301e-06\n",
            "Epoch 44/100\n",
            "29/29 [==============================] - 8s 276ms/step - loss: 7.6484e-06\n",
            "Epoch 45/100\n",
            "29/29 [==============================] - 8s 277ms/step - loss: 7.6311e-06\n",
            "Epoch 46/100\n",
            "29/29 [==============================] - 8s 279ms/step - loss: 8.2759e-06\n",
            "Epoch 47/100\n",
            "29/29 [==============================] - 8s 276ms/step - loss: 8.2490e-06\n",
            "Epoch 48/100\n",
            "29/29 [==============================] - 8s 276ms/step - loss: 7.5562e-06\n",
            "Epoch 49/100\n",
            "29/29 [==============================] - 8s 275ms/step - loss: 9.0010e-06\n",
            "Epoch 50/100\n",
            "29/29 [==============================] - 8s 281ms/step - loss: 8.8427e-06\n",
            "Epoch 51/100\n",
            "29/29 [==============================] - 8s 278ms/step - loss: 9.7610e-06\n",
            "Epoch 52/100\n",
            "29/29 [==============================] - 8s 283ms/step - loss: 9.4274e-06\n",
            "Epoch 53/100\n",
            "29/29 [==============================] - 8s 287ms/step - loss: 7.4179e-06\n",
            "Epoch 54/100\n",
            "29/29 [==============================] - 8s 291ms/step - loss: 7.7976e-06\n",
            "Epoch 55/100\n",
            "29/29 [==============================] - 8s 279ms/step - loss: 7.5977e-06\n",
            "Epoch 56/100\n",
            "29/29 [==============================] - 8s 284ms/step - loss: 6.7937e-06\n",
            "Epoch 57/100\n",
            "29/29 [==============================] - 9s 299ms/step - loss: 6.7696e-06\n",
            "Epoch 58/100\n",
            "29/29 [==============================] - 8s 281ms/step - loss: 7.2697e-06\n",
            "Epoch 59/100\n",
            "29/29 [==============================] - 8s 278ms/step - loss: 7.0922e-06\n",
            "Epoch 60/100\n",
            "29/29 [==============================] - 8s 274ms/step - loss: 6.5776e-06\n",
            "Epoch 61/100\n",
            "29/29 [==============================] - 8s 276ms/step - loss: 6.6611e-06\n",
            "Epoch 62/100\n",
            "29/29 [==============================] - 8s 274ms/step - loss: 6.2392e-06\n",
            "Epoch 63/100\n",
            "29/29 [==============================] - 8s 278ms/step - loss: 6.9081e-06\n",
            "Epoch 64/100\n",
            "29/29 [==============================] - 8s 274ms/step - loss: 6.1368e-06\n",
            "Epoch 65/100\n",
            "29/29 [==============================] - 8s 283ms/step - loss: 6.7541e-06\n",
            "Epoch 66/100\n",
            "29/29 [==============================] - 8s 290ms/step - loss: 7.2555e-06\n",
            "Epoch 67/100\n",
            "29/29 [==============================] - 8s 289ms/step - loss: 1.0479e-05\n",
            "Epoch 68/100\n",
            "29/29 [==============================] - 8s 276ms/step - loss: 6.8313e-06\n",
            "Epoch 69/100\n",
            "29/29 [==============================] - 8s 284ms/step - loss: 7.9805e-06\n",
            "Epoch 70/100\n",
            "29/29 [==============================] - 8s 287ms/step - loss: 6.1193e-06\n",
            "Epoch 71/100\n",
            "29/29 [==============================] - 9s 297ms/step - loss: 8.0408e-06\n",
            "Epoch 72/100\n",
            "29/29 [==============================] - 8s 285ms/step - loss: 7.3237e-06\n",
            "Epoch 73/100\n",
            "29/29 [==============================] - 8s 285ms/step - loss: 7.0162e-06\n",
            "Epoch 74/100\n",
            "29/29 [==============================] - 8s 291ms/step - loss: 5.6686e-06\n",
            "Epoch 75/100\n",
            "29/29 [==============================] - 8s 289ms/step - loss: 5.8521e-06\n",
            "Epoch 76/100\n",
            "29/29 [==============================] - 8s 287ms/step - loss: 5.9293e-06\n",
            "Epoch 77/100\n",
            "29/29 [==============================] - 8s 284ms/step - loss: 5.6954e-06\n",
            "Epoch 78/100\n",
            "29/29 [==============================] - 8s 292ms/step - loss: 5.9127e-06\n",
            "Epoch 79/100\n",
            "29/29 [==============================] - 9s 295ms/step - loss: 5.1627e-06\n",
            "Epoch 80/100\n",
            "29/29 [==============================] - 8s 293ms/step - loss: 5.3081e-06\n",
            "Epoch 81/100\n",
            "29/29 [==============================] - 8s 292ms/step - loss: 5.9003e-06\n",
            "Epoch 82/100\n",
            "29/29 [==============================] - 8s 293ms/step - loss: 7.5743e-06\n",
            "Epoch 83/100\n",
            "29/29 [==============================] - 8s 285ms/step - loss: 6.1568e-06\n",
            "Epoch 84/100\n",
            "29/29 [==============================] - 8s 285ms/step - loss: 5.4726e-06\n",
            "Epoch 85/100\n",
            "29/29 [==============================] - 8s 281ms/step - loss: 5.0064e-06\n",
            "Epoch 86/100\n",
            "29/29 [==============================] - 8s 279ms/step - loss: 4.9029e-06\n",
            "Epoch 87/100\n",
            "29/29 [==============================] - 8s 277ms/step - loss: 4.8503e-06\n",
            "Epoch 88/100\n",
            "29/29 [==============================] - 8s 278ms/step - loss: 4.9311e-06\n",
            "Epoch 89/100\n",
            "29/29 [==============================] - 8s 282ms/step - loss: 4.8452e-06\n",
            "Epoch 90/100\n",
            "29/29 [==============================] - 8s 281ms/step - loss: 4.6427e-06\n",
            "Epoch 91/100\n",
            "29/29 [==============================] - 8s 281ms/step - loss: 5.0903e-06\n",
            "Epoch 92/100\n",
            "29/29 [==============================] - 8s 283ms/step - loss: 4.6687e-06\n",
            "Epoch 93/100\n",
            "29/29 [==============================] - 8s 284ms/step - loss: 5.0672e-06\n",
            "Epoch 94/100\n",
            "29/29 [==============================] - 8s 277ms/step - loss: 5.6841e-06\n",
            "Epoch 95/100\n",
            "29/29 [==============================] - 8s 288ms/step - loss: 4.2810e-06\n",
            "Epoch 96/100\n",
            "29/29 [==============================] - 8s 282ms/step - loss: 4.3636e-06\n",
            "Epoch 97/100\n",
            "29/29 [==============================] - 8s 276ms/step - loss: 4.5213e-06\n",
            "Epoch 98/100\n",
            "29/29 [==============================] - 8s 280ms/step - loss: 4.2638e-06\n",
            "Epoch 99/100\n",
            "29/29 [==============================] - 8s 281ms/step - loss: 4.6710e-06\n",
            "Epoch 100/100\n",
            "29/29 [==============================] - 8s 280ms/step - loss: 4.4286e-06\n"
          ]
        },
        {
          "data": {
            "text/plain": [
              "<keras.callbacks.History at 0x1a85e3f5190>"
            ]
          },
          "execution_count": 32,
          "metadata": {},
          "output_type": "execute_result"
        }
      ],
      "source": [
        "from keras.models import Sequential\n",
        "from keras.layers import Dense, LSTM\n",
        "\n",
        "# Build the LSTM model\n",
        "model = Sequential()\n",
        "model.add(LSTM(128, return_sequences=True, input_shape= (x_train.shape[1], 1)))\n",
        "model.add(LSTM(64, return_sequences=False))\n",
        "model.add(Dense(25))\n",
        "model.add(Dense(1))\n",
        "\n",
        "# Compile the model\n",
        "model.compile(optimizer='adam', loss='mean_squared_error')\n",
        "\n",
        "# Train the model\n",
        "model.fit(x_train, y_train, batch_size=128, epochs=100)"
      ]
    },
    {
      "cell_type": "code",
      "execution_count": 33,
      "metadata": {
        "colab": {
          "base_uri": "https://localhost:8080/"
        },
        "id": "ppztbrb2pUl9",
        "outputId": "aad39c84-58a1-4247-f6fd-6dc1c1d7f615"
      },
      "outputs": [
        {
          "name": "stdout",
          "output_type": "stream",
          "text": [
            "39/39 [==============================] - 4s 61ms/step\n"
          ]
        },
        {
          "data": {
            "text/plain": [
              "9.69940083355601"
            ]
          },
          "execution_count": 33,
          "metadata": {},
          "output_type": "execute_result"
        }
      ],
      "source": [
        "test_data = scaled_data[training_data_len - 60: , :]\n",
        "# Create the data sets x_test and y_test\n",
        "x_test = []\n",
        "y_test = dataset[training_data_len:, :]\n",
        "for i in range(60, len(test_data)):\n",
        "    x_test.append(test_data[i-60:i, 0])\n",
        "\n",
        "# Convert the data to a numpy array\n",
        "x_test = np.array(x_test)\n",
        "\n",
        "# Reshape the data\n",
        "x_test = np.reshape(x_test, (x_test.shape[0], x_test.shape[1], 1 ))\n",
        "\n",
        "# Get the models predicted price values\n",
        "predictions = model.predict(x_test)\n",
        "predictions = scaler.inverse_transform(predictions)\n",
        "\n",
        "# Get the root mean squared error (RMSE)\n",
        "rmse = np.sqrt(np.mean(((predictions - y_test) ** 2)))\n",
        "rmse"
      ]
    },
    {
      "cell_type": "code",
      "execution_count": 34,
      "metadata": {
        "colab": {
          "base_uri": "https://localhost:8080/",
          "height": 589
        },
        "id": "vFKnd1uapY1N",
        "outputId": "d4d52e8d-290f-4c0d-e553-71dcacd5303e"
      },
      "outputs": [
        {
          "name": "stderr",
          "output_type": "stream",
          "text": [
            "C:\\Users\\KIIT\\AppData\\Local\\Temp\\ipykernel_13892\\3344400724.py:3: SettingWithCopyWarning: \n",
            "A value is trying to be set on a copy of a slice from a DataFrame.\n",
            "Try using .loc[row_indexer,col_indexer] = value instead\n",
            "\n",
            "See the caveats in the documentation: https://pandas.pydata.org/pandas-docs/stable/user_guide/indexing.html#returning-a-view-versus-a-copy\n",
            "  valid['Predictions'] = predictions\n"
          ]
        },
        {
          "data": {
            "image/png": "[encoded data removed]",
            "text/plain": [
              "<Figure size 1600x600 with 1 Axes>"
            ]
          },
          "metadata": {},
          "output_type": "display_data"
        }
      ],
      "source": [
        "train = data[:training_data_len]\n",
        "valid = data[training_data_len:]\n",
        "valid['Predictions'] = predictions\n",
        "# Visualize the data\n",
        "plt.figure(figsize=(16,6))\n",
        "plt.title('Model')\n",
        "plt.xlabel('Date', fontsize=18)\n",
        "plt.ylabel('Close Price USD ($)', fontsize=18)\n",
        "plt.plot(train['Close'])\n",
        "plt.plot(valid[['Close', 'Predictions']])\n",
        "plt.legend(['Train', 'Val', 'Predictions'], loc='lower right')\n",
        "plt.show()"
      ]
    },
    {
      "cell_type": "code",
      "execution_count": 35,
      "metadata": {
        "colab": {
          "base_uri": "https://localhost:8080/",
          "height": 423
        },
        "id": "is2Mh5Xhpbhi",
        "outputId": "27beee53-f8d9-436f-c58a-0e2c20abddea"
      },
      "outputs": [
        {
          "data": {
            "text/html": [
              "<div>\n",
              "<style scoped>\n",
              "    .dataframe tbody tr th:only-of-type {\n",
              "        vertical-align: middle;\n",
              "    }\n",
              "\n",
              "    .dataframe tbody tr th {\n",
              "        vertical-align: top;\n",
              "    }\n",
              "\n",
              "    .dataframe thead th {\n",
              "        text-align: right;\n",
              "    }\n",
              "</style>\n",
              "<table border=\"1\" class=\"dataframe\">\n",
              "  <thead>\n",
              "    <tr style=\"text-align: right;\">\n",
              "      <th></th>\n",
              "      <th>Close</th>\n",
              "      <th>Predictions</th>\n",
              "    </tr>\n",
              "  </thead>\n",
              "  <tbody>\n",
              "    <tr>\n",
              "      <th>3703</th>\n",
              "      <td>144.000000</td>\n",
              "      <td>141.328247</td>\n",
              "    </tr>\n",
              "    <tr>\n",
              "      <th>3704</th>\n",
              "      <td>144.740005</td>\n",
              "      <td>143.794861</td>\n",
              "    </tr>\n",
              "    <tr>\n",
              "      <th>3705</th>\n",
              "      <td>144.139999</td>\n",
              "      <td>145.393585</td>\n",
              "    </tr>\n",
              "    <tr>\n",
              "      <th>3706</th>\n",
              "      <td>144.820007</td>\n",
              "      <td>145.388992</td>\n",
              "    </tr>\n",
              "    <tr>\n",
              "      <th>3707</th>\n",
              "      <td>143.199997</td>\n",
              "      <td>145.535538</td>\n",
              "    </tr>\n",
              "    <tr>\n",
              "      <th>...</th>\n",
              "      <td>...</td>\n",
              "      <td>...</td>\n",
              "    </tr>\n",
              "    <tr>\n",
              "      <th>4932</th>\n",
              "      <td>614.090027</td>\n",
              "      <td>607.720337</td>\n",
              "    </tr>\n",
              "    <tr>\n",
              "      <th>4933</th>\n",
              "      <td>613.119995</td>\n",
              "      <td>610.728516</td>\n",
              "    </tr>\n",
              "    <tr>\n",
              "      <th>4934</th>\n",
              "      <td>610.710022</td>\n",
              "      <td>609.269348</td>\n",
              "    </tr>\n",
              "    <tr>\n",
              "      <th>4935</th>\n",
              "      <td>610.539978</td>\n",
              "      <td>605.756714</td>\n",
              "    </tr>\n",
              "    <tr>\n",
              "      <th>4936</th>\n",
              "      <td>612.090027</td>\n",
              "      <td>603.896606</td>\n",
              "    </tr>\n",
              "  </tbody>\n",
              "</table>\n",
              "<p>1234 rows × 2 columns</p>\n",
              "</div>"
            ],
            "text/plain": [
              "           Close  Predictions\n",
              "3703  144.000000   141.328247\n",
              "3704  144.740005   143.794861\n",
              "3705  144.139999   145.393585\n",
              "3706  144.820007   145.388992\n",
              "3707  143.199997   145.535538\n",
              "...          ...          ...\n",
              "4932  614.090027   607.720337\n",
              "4933  613.119995   610.728516\n",
              "4934  610.710022   609.269348\n",
              "4935  610.539978   605.756714\n",
              "4936  612.090027   603.896606\n",
              "\n",
              "[1234 rows x 2 columns]"
            ]
          },
          "execution_count": 35,
          "metadata": {},
          "output_type": "execute_result"
        }
      ],
      "source": [
        "valid"
      ]
    },
    {
      "cell_type": "code",
      "execution_count": 36,
      "metadata": {
        "id": "zcPxTc-8pfZj"
      },
      "outputs": [],
      "source": [
        "import pickle\n",
        "pickle.dump(model,open('./model.sav','wb'))"
      ]
    },
    {
      "cell_type": "code",
      "execution_count": null,
      "metadata": {},
      "outputs": [],
      "source": []
    }
  ],
  "metadata": {
    "accelerator": "GPU",
    "colab": {
      "gpuType": "T4",
      "provenance": []
    },
    "kernelspec": {
      "display_name": "Python 3",
      "name": "python3"
    },
    "language_info": {
      "codemirror_mode": {
        "name": "ipython",
        "version": 3
      },
      "file_extension": ".py",
      "mimetype": "text/x-python",
      "name": "python",
      "nbconvert_exporter": "python",
      "pygments_lexer": "ipython3",
      "version": "3.11.3"
    }
  },
  "nbformat": 4,
  "nbformat_minor": 0
}
