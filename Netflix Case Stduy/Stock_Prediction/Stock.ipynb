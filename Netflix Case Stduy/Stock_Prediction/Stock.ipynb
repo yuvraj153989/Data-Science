{
  "cells": [
    {
      "cell_type": "code",
      "execution_count": 1,
      "metadata": {
        "id": "5vmUkQo5ARO4"
      },
      "outputs": [],
      "source": [
        "import pandas as pd"
      ]
    },
    {
      "cell_type": "code",
      "execution_count": 2,
      "metadata": {
        "id": "kh2SnnAbAW7s"
      },
      "outputs": [],
      "source": [
        "df=pd.read_csv(\"NetflixStocks.csv\")"
      ]
    },
    {
      "cell_type": "code",
      "execution_count": 3,
      "metadata": {
        "colab": {
          "base_uri": "https://localhost:8080/",
          "height": 206
        },
        "id": "w4H7VIdnAjKI",
        "outputId": "dc22da47-f8fe-407a-aa59-1e0b28699c33"
      },
      "outputs": [
        {
          "data": {
            "text/html": [
              "<div>\n",
              "<style scoped>\n",
              "    .dataframe tbody tr th:only-of-type {\n",
              "        vertical-align: middle;\n",
              "    }\n",
              "\n",
              "    .dataframe tbody tr th {\n",
              "        vertical-align: top;\n",
              "    }\n",
              "\n",
              "    .dataframe thead th {\n",
              "        text-align: right;\n",
              "    }\n",
              "</style>\n",
              "<table border=\"1\" class=\"dataframe\">\n",
              "  <thead>\n",
              "    <tr style=\"text-align: right;\">\n",
              "      <th></th>\n",
              "      <th>Date</th>\n",
              "      <th>Open</th>\n",
              "      <th>High</th>\n",
              "      <th>Low</th>\n",
              "      <th>Close</th>\n",
              "      <th>Adj Close</th>\n",
              "      <th>Volume</th>\n",
              "    </tr>\n",
              "  </thead>\n",
              "  <tbody>\n",
              "    <tr>\n",
              "      <th>0</th>\n",
              "      <td>5/23/2002</td>\n",
              "      <td>1.156429</td>\n",
              "      <td>1.242857</td>\n",
              "      <td>1.145714</td>\n",
              "      <td>1.196429</td>\n",
              "      <td>1.196429</td>\n",
              "      <td>104790000</td>\n",
              "    </tr>\n",
              "    <tr>\n",
              "      <th>1</th>\n",
              "      <td>5/24/2002</td>\n",
              "      <td>1.214286</td>\n",
              "      <td>1.225000</td>\n",
              "      <td>1.197143</td>\n",
              "      <td>1.210000</td>\n",
              "      <td>1.210000</td>\n",
              "      <td>11104800</td>\n",
              "    </tr>\n",
              "    <tr>\n",
              "      <th>2</th>\n",
              "      <td>5/28/2002</td>\n",
              "      <td>1.213571</td>\n",
              "      <td>1.232143</td>\n",
              "      <td>1.157143</td>\n",
              "      <td>1.157143</td>\n",
              "      <td>1.157143</td>\n",
              "      <td>6609400</td>\n",
              "    </tr>\n",
              "    <tr>\n",
              "      <th>3</th>\n",
              "      <td>5/29/2002</td>\n",
              "      <td>1.164286</td>\n",
              "      <td>1.164286</td>\n",
              "      <td>1.085714</td>\n",
              "      <td>1.103571</td>\n",
              "      <td>1.103571</td>\n",
              "      <td>6757800</td>\n",
              "    </tr>\n",
              "    <tr>\n",
              "      <th>4</th>\n",
              "      <td>5/30/2002</td>\n",
              "      <td>1.107857</td>\n",
              "      <td>1.107857</td>\n",
              "      <td>1.071429</td>\n",
              "      <td>1.071429</td>\n",
              "      <td>1.071429</td>\n",
              "      <td>10154200</td>\n",
              "    </tr>\n",
              "  </tbody>\n",
              "</table>\n",
              "</div>"
            ],
            "text/plain": [
              "        Date      Open      High       Low     Close  Adj Close     Volume\n",
              "0  5/23/2002  1.156429  1.242857  1.145714  1.196429   1.196429  104790000\n",
              "1  5/24/2002  1.214286  1.225000  1.197143  1.210000   1.210000   11104800\n",
              "2  5/28/2002  1.213571  1.232143  1.157143  1.157143   1.157143    6609400\n",
              "3  5/29/2002  1.164286  1.164286  1.085714  1.103571   1.103571    6757800\n",
              "4  5/30/2002  1.107857  1.107857  1.071429  1.071429   1.071429   10154200"
            ]
          },
          "execution_count": 3,
          "metadata": {},
          "output_type": "execute_result"
        }
      ],
      "source": [
        "df.head()"
      ]
    },
    {
      "cell_type": "code",
      "execution_count": 4,
      "metadata": {
        "colab": {
          "base_uri": "https://localhost:8080/"
        },
        "id": "VcBj279cAkHq",
        "outputId": "0c3c5839-312c-49d1-e1b8-a7aff93df4be"
      },
      "outputs": [
        {
          "data": {
            "text/plain": [
              "(4937, 7)"
            ]
          },
          "execution_count": 4,
          "metadata": {},
          "output_type": "execute_result"
        }
      ],
      "source": [
        "df.shape"
      ]
    },
    {
      "cell_type": "code",
      "execution_count": 5,
      "metadata": {
        "id": "zt7nDxbHAlE9"
      },
      "outputs": [],
      "source": [
        "val=pd.read_csv(\"Val.csv\")"
      ]
    },
    {
      "cell_type": "code",
      "execution_count": 6,
      "metadata": {
        "colab": {
          "base_uri": "https://localhost:8080/",
          "height": 206
        },
        "id": "FB13RhwvAn9f",
        "outputId": "09e950d1-8102-42b2-9153-4250df9a26c9"
      },
      "outputs": [
        {
          "data": {
            "text/html": [
              "<div>\n",
              "<style scoped>\n",
              "    .dataframe tbody tr th:only-of-type {\n",
              "        vertical-align: middle;\n",
              "    }\n",
              "\n",
              "    .dataframe tbody tr th {\n",
              "        vertical-align: top;\n",
              "    }\n",
              "\n",
              "    .dataframe thead th {\n",
              "        text-align: right;\n",
              "    }\n",
              "</style>\n",
              "<table border=\"1\" class=\"dataframe\">\n",
              "  <thead>\n",
              "    <tr style=\"text-align: right;\">\n",
              "      <th></th>\n",
              "      <th>Date</th>\n",
              "      <th>Open</th>\n",
              "      <th>High</th>\n",
              "      <th>Low</th>\n",
              "      <th>Close</th>\n",
              "      <th>Adj Close</th>\n",
              "      <th>Volume</th>\n",
              "    </tr>\n",
              "  </thead>\n",
              "  <tbody>\n",
              "    <tr>\n",
              "      <th>0</th>\n",
              "      <td>1/3/2022</td>\n",
              "      <td>605.609985</td>\n",
              "      <td>609.989990</td>\n",
              "      <td>590.559998</td>\n",
              "      <td>597.369995</td>\n",
              "      <td>597.369995</td>\n",
              "      <td>3067500</td>\n",
              "    </tr>\n",
              "    <tr>\n",
              "      <th>1</th>\n",
              "      <td>1/4/2022</td>\n",
              "      <td>599.909973</td>\n",
              "      <td>600.409973</td>\n",
              "      <td>581.599976</td>\n",
              "      <td>591.150024</td>\n",
              "      <td>591.150024</td>\n",
              "      <td>4393100</td>\n",
              "    </tr>\n",
              "    <tr>\n",
              "      <th>2</th>\n",
              "      <td>1/5/2022</td>\n",
              "      <td>592.000000</td>\n",
              "      <td>592.840027</td>\n",
              "      <td>566.880005</td>\n",
              "      <td>567.520020</td>\n",
              "      <td>567.520020</td>\n",
              "      <td>4148700</td>\n",
              "    </tr>\n",
              "    <tr>\n",
              "      <th>3</th>\n",
              "      <td>1/6/2022</td>\n",
              "      <td>554.340027</td>\n",
              "      <td>563.359985</td>\n",
              "      <td>542.010010</td>\n",
              "      <td>553.289978</td>\n",
              "      <td>553.289978</td>\n",
              "      <td>5711800</td>\n",
              "    </tr>\n",
              "    <tr>\n",
              "      <th>4</th>\n",
              "      <td>1/7/2022</td>\n",
              "      <td>549.460022</td>\n",
              "      <td>553.429993</td>\n",
              "      <td>538.219971</td>\n",
              "      <td>541.059998</td>\n",
              "      <td>541.059998</td>\n",
              "      <td>3382900</td>\n",
              "    </tr>\n",
              "  </tbody>\n",
              "</table>\n",
              "</div>"
            ],
            "text/plain": [
              "       Date        Open        High         Low       Close   Adj Close  \\\n",
              "0  1/3/2022  605.609985  609.989990  590.559998  597.369995  597.369995   \n",
              "1  1/4/2022  599.909973  600.409973  581.599976  591.150024  591.150024   \n",
              "2  1/5/2022  592.000000  592.840027  566.880005  567.520020  567.520020   \n",
              "3  1/6/2022  554.340027  563.359985  542.010010  553.289978  553.289978   \n",
              "4  1/7/2022  549.460022  553.429993  538.219971  541.059998  541.059998   \n",
              "\n",
              "    Volume  \n",
              "0  3067500  \n",
              "1  4393100  \n",
              "2  4148700  \n",
              "3  5711800  \n",
              "4  3382900  "
            ]
          },
          "execution_count": 6,
          "metadata": {},
          "output_type": "execute_result"
        }
      ],
      "source": [
        "val.head()"
      ]
    },
    {
      "cell_type": "code",
      "execution_count": 7,
      "metadata": {
        "colab": {
          "base_uri": "https://localhost:8080/"
        },
        "id": "ZBq-8tD3ArhW",
        "outputId": "74bafba6-6f8c-4f41-91d4-78f6683f66e5"
      },
      "outputs": [
        {
          "data": {
            "text/plain": [
              "(351, 7)"
            ]
          },
          "execution_count": 7,
          "metadata": {},
          "output_type": "execute_result"
        }
      ],
      "source": [
        "val.shape"
      ]
    },
    {
      "cell_type": "code",
      "execution_count": 8,
      "metadata": {
        "id": "F3thKP7EAsvE"
      },
      "outputs": [],
      "source": [
        "tr=df.iloc[:,1:2].values"
      ]
    },
    {
      "cell_type": "code",
      "execution_count": 9,
      "metadata": {
        "id": "fUY01VGyA5es"
      },
      "outputs": [],
      "source": [
        "from sklearn.preprocessing import MinMaxScaler\n",
        "sc=MinMaxScaler(feature_range=(0,1))\n",
        "tr_sc=sc.fit_transform(tr)\n",
        "\n",
        "#RNN need normalized dataset"
      ]
    },
    {
      "cell_type": "code",
      "execution_count": 10,
      "metadata": {
        "id": "Cgs9Zf4NBGGa"
      },
      "outputs": [],
      "source": [
        "import numpy as np\n",
        "X_train=[]\n",
        "y_train=[]\n",
        "for i in range(60,df.shape[0]):  #59 step will be used to predict 60th step\n",
        "  X_train.append(tr_sc[i-60:i,0])\n",
        "  y_train.append(tr_sc[i,0])\n",
        "X_train,y_train=np.array(X_train),np.array(y_train)"
      ]
    },
    {
      "cell_type": "code",
      "execution_count": 11,
      "metadata": {
        "id": "-YasM4pVB9wm"
      },
      "outputs": [],
      "source": [
        "#Reshaping into 2D -> 3D type\n",
        "X_train=np.reshape(X_train,(X_train.shape[0],X_train.shape[1],1))"
      ]
    },
    {
      "cell_type": "code",
      "execution_count": 12,
      "metadata": {
        "id": "KNrBy47oCrKD"
      },
      "outputs": [],
      "source": [
        "from keras.models import Sequential\n",
        "from keras.layers import Dense, LSTM, Dropout"
      ]
    },
    {
      "cell_type": "code",
      "execution_count": 13,
      "metadata": {
        "colab": {
          "base_uri": "https://localhost:8080/"
        },
        "id": "uScC2kzeDBz4",
        "outputId": "c1bd4cb2-536a-4829-c640-8dadaa956315"
      },
      "outputs": [
        {
          "name": "stdout",
          "output_type": "stream",
          "text": [
            "Epoch 1/50\n",
            "77/77 [==============================] - 27s 209ms/step - loss: 0.0061\n",
            "Epoch 2/50\n",
            "77/77 [==============================] - 14s 185ms/step - loss: 0.0017\n",
            "Epoch 3/50\n",
            "77/77 [==============================] - 16s 204ms/step - loss: 0.0015\n",
            "Epoch 4/50\n",
            "77/77 [==============================] - 16s 210ms/step - loss: 0.0015\n",
            "Epoch 5/50\n",
            "77/77 [==============================] - 16s 212ms/step - loss: 0.0013\n",
            "Epoch 6/50\n",
            "77/77 [==============================] - 16s 213ms/step - loss: 0.0015\n",
            "Epoch 7/50\n",
            "77/77 [==============================] - 16s 210ms/step - loss: 0.0012\n",
            "Epoch 8/50\n",
            "77/77 [==============================] - 17s 219ms/step - loss: 0.0012\n",
            "Epoch 9/50\n",
            "77/77 [==============================] - 15s 201ms/step - loss: 0.0011\n",
            "Epoch 10/50\n",
            "77/77 [==============================] - 16s 211ms/step - loss: 0.0012\n",
            "Epoch 11/50\n",
            "77/77 [==============================] - 16s 211ms/step - loss: 9.9167e-04\n",
            "Epoch 12/50\n",
            "77/77 [==============================] - 17s 219ms/step - loss: 0.0010\n",
            "Epoch 13/50\n",
            "77/77 [==============================] - 17s 217ms/step - loss: 0.0010\n",
            "Epoch 14/50\n",
            "77/77 [==============================] - 16s 210ms/step - loss: 0.0010\n",
            "Epoch 15/50\n",
            "77/77 [==============================] - 16s 205ms/step - loss: 9.5615e-04\n",
            "Epoch 16/50\n",
            "77/77 [==============================] - 16s 210ms/step - loss: 9.4628e-04\n",
            "Epoch 17/50\n",
            "77/77 [==============================] - 16s 204ms/step - loss: 0.0011\n",
            "Epoch 18/50\n",
            "77/77 [==============================] - 16s 206ms/step - loss: 9.7006e-04\n",
            "Epoch 19/50\n",
            "77/77 [==============================] - 16s 209ms/step - loss: 9.3008e-04\n",
            "Epoch 20/50\n",
            "77/77 [==============================] - 16s 207ms/step - loss: 8.4643e-04\n",
            "Epoch 21/50\n",
            "77/77 [==============================] - 16s 205ms/step - loss: 9.8645e-04\n",
            "Epoch 22/50\n",
            "77/77 [==============================] - 16s 208ms/step - loss: 0.0010\n",
            "Epoch 23/50\n",
            "77/77 [==============================] - 17s 217ms/step - loss: 9.9233e-04\n",
            "Epoch 24/50\n",
            "77/77 [==============================] - 17s 214ms/step - loss: 8.8330e-04\n",
            "Epoch 25/50\n",
            "77/77 [==============================] - 18s 229ms/step - loss: 9.0103e-04\n",
            "Epoch 26/50\n",
            "77/77 [==============================] - 16s 211ms/step - loss: 8.1696e-04\n",
            "Epoch 27/50\n",
            "77/77 [==============================] - 16s 207ms/step - loss: 0.0010\n",
            "Epoch 28/50\n",
            "77/77 [==============================] - 16s 211ms/step - loss: 8.4322e-04\n",
            "Epoch 29/50\n",
            "77/77 [==============================] - 17s 217ms/step - loss: 8.5498e-04\n",
            "Epoch 30/50\n",
            "77/77 [==============================] - 17s 220ms/step - loss: 8.3247e-04\n",
            "Epoch 31/50\n",
            "77/77 [==============================] - 17s 216ms/step - loss: 0.0010\n",
            "Epoch 32/50\n",
            "77/77 [==============================] - 17s 216ms/step - loss: 9.0034e-04\n",
            "Epoch 33/50\n",
            "77/77 [==============================] - 16s 210ms/step - loss: 7.7200e-04\n",
            "Epoch 34/50\n",
            "77/77 [==============================] - 17s 215ms/step - loss: 8.0105e-04\n",
            "Epoch 35/50\n",
            "77/77 [==============================] - 16s 211ms/step - loss: 8.8322e-04\n",
            "Epoch 36/50\n",
            "77/77 [==============================] - 16s 214ms/step - loss: 7.7493e-04\n",
            "Epoch 37/50\n",
            "77/77 [==============================] - 17s 215ms/step - loss: 8.5856e-04\n",
            "Epoch 38/50\n",
            "77/77 [==============================] - 17s 216ms/step - loss: 7.8569e-04\n",
            "Epoch 39/50\n",
            "77/77 [==============================] - 17s 217ms/step - loss: 8.3877e-04\n",
            "Epoch 40/50\n",
            "77/77 [==============================] - 17s 215ms/step - loss: 7.1183e-04\n",
            "Epoch 41/50\n",
            "77/77 [==============================] - 17s 216ms/step - loss: 7.6657e-04\n",
            "Epoch 42/50\n",
            "77/77 [==============================] - 16s 212ms/step - loss: 8.3872e-04\n",
            "Epoch 43/50\n",
            "77/77 [==============================] - 16s 214ms/step - loss: 7.9744e-04\n",
            "Epoch 44/50\n",
            "77/77 [==============================] - 17s 216ms/step - loss: 7.9055e-04\n",
            "Epoch 45/50\n",
            "77/77 [==============================] - 17s 216ms/step - loss: 7.8498e-04\n",
            "Epoch 46/50\n",
            "77/77 [==============================] - 17s 217ms/step - loss: 8.0436e-04\n",
            "Epoch 47/50\n",
            "77/77 [==============================] - 16s 212ms/step - loss: 7.5970e-04\n",
            "Epoch 48/50\n",
            "77/77 [==============================] - 17s 215ms/step - loss: 8.2335e-04\n",
            "Epoch 49/50\n",
            "77/77 [==============================] - 17s 218ms/step - loss: 7.4314e-04\n",
            "Epoch 50/50\n",
            "77/77 [==============================] - 17s 218ms/step - loss: 8.2246e-04\n"
          ]
        },
        {
          "data": {
            "text/plain": [
              "<keras.callbacks.History at 0x2df7fdd02d0>"
            ]
          },
          "execution_count": 13,
          "metadata": {},
          "output_type": "execute_result"
        }
      ],
      "source": [
        "model=Sequential()\n",
        "\n",
        "#Layer 1\n",
        "model.add(LSTM(units=50,return_sequences=True,input_shape=(X_train.shape[1],1)))\n",
        "model.add(Dropout(0.25))\n",
        "\n",
        "#Layer 2\n",
        "model.add(LSTM(units=50,return_sequences=True))\n",
        "model.add(Dropout(0.25))\n",
        "\n",
        "#Layer 3\n",
        "model.add(LSTM(units=50,return_sequences=True))\n",
        "model.add(Dropout(0.25))\n",
        "\n",
        "#Layer 4\n",
        "model.add(LSTM(units=50))\n",
        "model.add(Dropout(0.25))\n",
        "\n",
        "#Output layer\n",
        "model.add(Dense(units=1))\n",
        "\n",
        "#Compiling RNN\n",
        "model.compile(optimizer='adam',loss='mean_squared_error')\n",
        "\n",
        "#Running\n",
        "model.fit(X_train,y_train,epochs=50,batch_size=64)"
      ]
    },
    {
      "cell_type": "code",
      "execution_count": 14,
      "metadata": {
        "colab": {
          "base_uri": "https://localhost:8080/",
          "height": 206
        },
        "id": "0AOuGv2qEeho",
        "outputId": "6941193e-3336-4c3a-9e98-b9970201b320"
      },
      "outputs": [
        {
          "data": {
            "text/html": [
              "<div>\n",
              "<style scoped>\n",
              "    .dataframe tbody tr th:only-of-type {\n",
              "        vertical-align: middle;\n",
              "    }\n",
              "\n",
              "    .dataframe tbody tr th {\n",
              "        vertical-align: top;\n",
              "    }\n",
              "\n",
              "    .dataframe thead th {\n",
              "        text-align: right;\n",
              "    }\n",
              "</style>\n",
              "<table border=\"1\" class=\"dataframe\">\n",
              "  <thead>\n",
              "    <tr style=\"text-align: right;\">\n",
              "      <th></th>\n",
              "      <th>Date</th>\n",
              "      <th>Open</th>\n",
              "      <th>High</th>\n",
              "      <th>Low</th>\n",
              "      <th>Close</th>\n",
              "      <th>Adj Close</th>\n",
              "      <th>Volume</th>\n",
              "    </tr>\n",
              "  </thead>\n",
              "  <tbody>\n",
              "    <tr>\n",
              "      <th>0</th>\n",
              "      <td>1/3/2022</td>\n",
              "      <td>605.609985</td>\n",
              "      <td>609.989990</td>\n",
              "      <td>590.559998</td>\n",
              "      <td>597.369995</td>\n",
              "      <td>597.369995</td>\n",
              "      <td>3067500</td>\n",
              "    </tr>\n",
              "    <tr>\n",
              "      <th>1</th>\n",
              "      <td>1/4/2022</td>\n",
              "      <td>599.909973</td>\n",
              "      <td>600.409973</td>\n",
              "      <td>581.599976</td>\n",
              "      <td>591.150024</td>\n",
              "      <td>591.150024</td>\n",
              "      <td>4393100</td>\n",
              "    </tr>\n",
              "    <tr>\n",
              "      <th>2</th>\n",
              "      <td>1/5/2022</td>\n",
              "      <td>592.000000</td>\n",
              "      <td>592.840027</td>\n",
              "      <td>566.880005</td>\n",
              "      <td>567.520020</td>\n",
              "      <td>567.520020</td>\n",
              "      <td>4148700</td>\n",
              "    </tr>\n",
              "    <tr>\n",
              "      <th>3</th>\n",
              "      <td>1/6/2022</td>\n",
              "      <td>554.340027</td>\n",
              "      <td>563.359985</td>\n",
              "      <td>542.010010</td>\n",
              "      <td>553.289978</td>\n",
              "      <td>553.289978</td>\n",
              "      <td>5711800</td>\n",
              "    </tr>\n",
              "    <tr>\n",
              "      <th>4</th>\n",
              "      <td>1/7/2022</td>\n",
              "      <td>549.460022</td>\n",
              "      <td>553.429993</td>\n",
              "      <td>538.219971</td>\n",
              "      <td>541.059998</td>\n",
              "      <td>541.059998</td>\n",
              "      <td>3382900</td>\n",
              "    </tr>\n",
              "  </tbody>\n",
              "</table>\n",
              "</div>"
            ],
            "text/plain": [
              "       Date        Open        High         Low       Close   Adj Close  \\\n",
              "0  1/3/2022  605.609985  609.989990  590.559998  597.369995  597.369995   \n",
              "1  1/4/2022  599.909973  600.409973  581.599976  591.150024  591.150024   \n",
              "2  1/5/2022  592.000000  592.840027  566.880005  567.520020  567.520020   \n",
              "3  1/6/2022  554.340027  563.359985  542.010010  553.289978  553.289978   \n",
              "4  1/7/2022  549.460022  553.429993  538.219971  541.059998  541.059998   \n",
              "\n",
              "    Volume  \n",
              "0  3067500  \n",
              "1  4393100  \n",
              "2  4148700  \n",
              "3  5711800  \n",
              "4  3382900  "
            ]
          },
          "execution_count": 14,
          "metadata": {},
          "output_type": "execute_result"
        }
      ],
      "source": [
        "val.head()"
      ]
    },
    {
      "cell_type": "code",
      "execution_count": 15,
      "metadata": {
        "colab": {
          "base_uri": "https://localhost:8080/"
        },
        "id": "jHILIL0vFzx9",
        "outputId": "68c0c4af-a72f-4920-f65c-6e2e6af938cd"
      },
      "outputs": [
        {
          "name": "stdout",
          "output_type": "stream",
          "text": [
            "10/10 [==============================] - 3s 32ms/step\n"
          ]
        }
      ],
      "source": [
        "#doing smae process of train set to test set\n",
        "sp=val.iloc[:,1:2].values\n",
        "total=pd.concat((df['Open'],val['Open']),axis=0)\n",
        "ip=total[len(total)-len(val)-60:].values\n",
        "ip=ip.reshape(-1,1)\n",
        "ip=sc.transform(ip)\n",
        "X_test=[]\n",
        "for i in range(60,val.shape[0]):\n",
        "  X_test.append(ip[i-60:i,0])\n",
        "X_test=np.array(X_test)\n",
        "X_test=np.reshape(X_test,(X_test.shape[0],X_test.shape[1],1))\n",
        "\n",
        "pr=model.predict(X_test)\n",
        "pr=sc.inverse_transform(pr)"
      ]
    },
    {
      "cell_type": "code",
      "execution_count": 16,
      "metadata": {
        "colab": {
          "base_uri": "https://localhost:8080/",
          "height": 469
        },
        "id": "hxqJp2HzHESg",
        "outputId": "c3670788-fa9a-40ee-f841-4ec9b3afa766"
      },
      "outputs": [
        {
          "data": {
            "text/plain": [
              "Text(0.5, 1.0, 'NetFlix Stock Price Prediction')"
            ]
          },
          "execution_count": 16,
          "metadata": {},
          "output_type": "execute_result"
        },
        {
          "data": {
            "image/png": "[encoded data removed]",
            "text/plain": [
              "<Figure size 640x480 with 1 Axes>"
            ]
          },
          "metadata": {},
          "output_type": "display_data"
        }
      ],
      "source": [
        "import matplotlib.pyplot as plt\n",
        "import seaborn as sns\n",
        "plt.plot(sp,color='red',label='Actual')\n",
        "plt.plot(pr,color='green',label='Predicted')\n",
        "plt.xlabel(\"Time\")\n",
        "plt.ylabel(\"Stock Price\")\n",
        "plt.title(\"NetFlix Stock Price Prediction\")\n",
        "\n",
        "# Almost similar"
      ]
    },
    {
      "cell_type": "code",
      "execution_count": 17,
      "metadata": {
        "colab": {
          "base_uri": "https://localhost:8080/"
        },
        "id": "4jO5SpVbIMdG",
        "outputId": "974ff579-cd32-4d11-ac49-f1cc602a808c"
      },
      "outputs": [
        {
          "data": {
            "text/plain": [
              "array([[604.4963 ],\n",
              "       [604.9197 ],\n",
              "       [603.67725],\n",
              "       [600.78986],\n",
              "       [594.6222 ],\n",
              "       [585.7512 ],\n",
              "       [575.18494],\n",
              "       [564.49634],\n",
              "       [555.543  ],\n",
              "       [548.8341 ],\n",
              "       [543.2411 ],\n",
              "       [538.47546],\n",
              "       [534.2143 ],\n",
              "       [530.63763],\n",
              "       [521.1195 ],\n",
              "       [504.6123 ],\n",
              "       [483.38455],\n",
              "       [460.73126],\n",
              "       [439.80148],\n",
              "       [422.9216 ],\n",
              "       [411.81808],\n",
              "       [408.1303 ],\n",
              "       [411.92606],\n",
              "       [419.3628 ],\n",
              "       [426.09488],\n",
              "       [430.09512],\n",
              "       [430.39548],\n",
              "       [428.12115],\n",
              "       [424.22406],\n",
              "       [419.87186],\n",
              "       [414.9627 ],\n",
              "       [410.62875],\n",
              "       [407.39728],\n",
              "       [404.98978],\n",
              "       [403.05927],\n",
              "       [401.23587],\n",
              "       [399.0983 ],\n",
              "       [395.21973],\n",
              "       [391.1843 ],\n",
              "       [388.16385],\n",
              "       [386.82852],\n",
              "       [386.9505 ],\n",
              "       [387.8237 ],\n",
              "       [387.88718],\n",
              "       [386.2075 ],\n",
              "       [382.40283],\n",
              "       [377.46957],\n",
              "       [372.3947 ],\n",
              "       [368.18045],\n",
              "       [364.17075],\n",
              "       [359.935  ],\n",
              "       [356.20065],\n",
              "       [354.0387 ],\n",
              "       [354.35367],\n",
              "       [357.2594 ],\n",
              "       [361.56772],\n",
              "       [366.49197],\n",
              "       [371.2498 ],\n",
              "       [375.1072 ],\n",
              "       [377.63876],\n",
              "       [379.34564],\n",
              "       [380.88605],\n",
              "       [382.19473],\n",
              "       [382.81403],\n",
              "       [382.48227],\n",
              "       [382.18906],\n",
              "       [381.6701 ],\n",
              "       [380.3539 ],\n",
              "       [378.08524],\n",
              "       [374.5855 ],\n",
              "       [370.52805],\n",
              "       [366.03836],\n",
              "       [361.84164],\n",
              "       [357.91843],\n",
              "       [354.02325],\n",
              "       [346.08737],\n",
              "       [332.5139 ],\n",
              "       [314.73538],\n",
              "       [295.06934],\n",
              "       [275.71805],\n",
              "       [257.9163 ],\n",
              "       [242.4736 ],\n",
              "       [230.14302],\n",
              "       [220.88869],\n",
              "       [214.58215],\n",
              "       [210.74677],\n",
              "       [208.82639],\n",
              "       [207.6143 ],\n",
              "       [205.93628],\n",
              "       [203.29231],\n",
              "       [199.79878],\n",
              "       [195.40413],\n",
              "       [190.90762],\n",
              "       [187.61455],\n",
              "       [185.9552 ],\n",
              "       [185.64816],\n",
              "       [185.824  ],\n",
              "       [186.17325],\n",
              "       [186.56136],\n",
              "       [186.74274],\n",
              "       [186.54048],\n",
              "       [186.20476],\n",
              "       [186.21597],\n",
              "       [186.88536],\n",
              "       [188.27968],\n",
              "       [189.90956],\n",
              "       [191.68002],\n",
              "       [193.56554],\n",
              "       [195.15724],\n",
              "       [196.33148],\n",
              "       [197.21086],\n",
              "       [197.17363],\n",
              "       [195.8127 ],\n",
              "       [193.01018],\n",
              "       [189.14896],\n",
              "       [185.03867],\n",
              "       [181.3408 ],\n",
              "       [178.59113],\n",
              "       [176.69514],\n",
              "       [175.81197],\n",
              "       [176.00237],\n",
              "       [177.38881],\n",
              "       [179.6257 ],\n",
              "       [181.80858],\n",
              "       [183.23842],\n",
              "       [183.67123],\n",
              "       [183.22276],\n",
              "       [182.54597],\n",
              "       [182.06468],\n",
              "       [182.0085 ],\n",
              "       [182.32695],\n",
              "       [182.57101],\n",
              "       [182.20647],\n",
              "       [181.30614],\n",
              "       [180.13094],\n",
              "       [179.61073],\n",
              "       [180.2054 ],\n",
              "       [182.4541 ],\n",
              "       [186.45668],\n",
              "       [192.01091],\n",
              "       [198.34982],\n",
              "       [204.36652],\n",
              "       [209.27725],\n",
              "       [213.11707],\n",
              "       [215.99916],\n",
              "       [218.0609 ],\n",
              "       [219.44493],\n",
              "       [220.39804],\n",
              "       [221.23296],\n",
              "       [222.00378],\n",
              "       [222.79129],\n",
              "       [223.7855 ],\n",
              "       [225.24458],\n",
              "       [227.48174],\n",
              "       [230.39761],\n",
              "       [233.76857],\n",
              "       [237.17683],\n",
              "       [239.97144],\n",
              "       [241.86583],\n",
              "       [242.83444],\n",
              "       [242.69254],\n",
              "       [241.33406],\n",
              "       [239.01761],\n",
              "       [236.41592],\n",
              "       [234.22574],\n",
              "       [232.30725],\n",
              "       [230.73369],\n",
              "       [229.57532],\n",
              "       [228.56674],\n",
              "       [227.99535],\n",
              "       [227.75998],\n",
              "       [227.47775],\n",
              "       [227.1199 ],\n",
              "       [226.97308],\n",
              "       [227.34242],\n",
              "       [227.93987],\n",
              "       [228.19318],\n",
              "       [228.31096],\n",
              "       [228.53278],\n",
              "       [229.54657],\n",
              "       [231.31227],\n",
              "       [233.58423],\n",
              "       [235.676  ],\n",
              "       [237.14679],\n",
              "       [237.46793],\n",
              "       [236.75342],\n",
              "       [235.42888],\n",
              "       [234.43727],\n",
              "       [234.06865],\n",
              "       [234.314  ],\n",
              "       [235.29665],\n",
              "       [236.61931],\n",
              "       [237.81096],\n",
              "       [238.57324],\n",
              "       [238.40517],\n",
              "       [237.2819 ],\n",
              "       [235.00536],\n",
              "       [231.7539 ],\n",
              "       [229.04924],\n",
              "       [227.65117],\n",
              "       [228.30536],\n",
              "       [231.59071],\n",
              "       [237.41519],\n",
              "       [244.63106],\n",
              "       [252.91705],\n",
              "       [261.38638],\n",
              "       [269.24524],\n",
              "       [276.27618],\n",
              "       [282.2355 ],\n",
              "       [286.83328],\n",
              "       [290.07178],\n",
              "       [291.67285],\n",
              "       [291.09628],\n",
              "       [288.6613 ],\n",
              "       [284.6559 ],\n",
              "       [279.72922],\n",
              "       [274.6572 ],\n",
              "       [270.38165],\n",
              "       [267.78842],\n",
              "       [267.7795 ],\n",
              "       [271.1542 ],\n",
              "       [277.4171 ],\n",
              "       [284.44797],\n",
              "       [290.677  ],\n",
              "       [294.9895 ],\n",
              "       [296.87183],\n",
              "       [296.66263],\n",
              "       [295.225  ],\n",
              "       [293.1257 ],\n",
              "       [290.79028],\n",
              "       [288.52228],\n",
              "       [287.6014 ],\n",
              "       [288.7985 ],\n",
              "       [292.20148],\n",
              "       [296.83325],\n",
              "       [301.38333],\n",
              "       [305.1303 ],\n",
              "       [308.4019 ],\n",
              "       [311.31277],\n",
              "       [314.2336 ],\n",
              "       [316.7468 ],\n",
              "       [317.73697],\n",
              "       [316.3282 ],\n",
              "       [312.84348],\n",
              "       [307.80243],\n",
              "       [302.47168],\n",
              "       [298.207  ],\n",
              "       [295.55588],\n",
              "       [294.33603],\n",
              "       [293.5982 ],\n",
              "       [292.8133 ],\n",
              "       [291.93027],\n",
              "       [291.6208 ],\n",
              "       [292.1615 ],\n",
              "       [293.84067],\n",
              "       [296.66147],\n",
              "       [300.44214],\n",
              "       [304.3656 ],\n",
              "       [308.52072],\n",
              "       [313.0503 ],\n",
              "       [317.5687 ],\n",
              "       [321.66785],\n",
              "       [324.8179 ],\n",
              "       [326.6246 ],\n",
              "       [327.86044],\n",
              "       [329.29434],\n",
              "       [331.979  ],\n",
              "       [336.15262],\n",
              "       [341.71634],\n",
              "       [347.6514 ],\n",
              "       [352.7551 ],\n",
              "       [355.96375],\n",
              "       [357.3311 ],\n",
              "       [357.92984],\n",
              "       [358.16724],\n",
              "       [358.50635],\n",
              "       [358.85577],\n",
              "       [359.20566],\n",
              "       [360.19305],\n",
              "       [361.26505],\n",
              "       [361.52582],\n",
              "       [361.15533],\n",
              "       [360.44415],\n",
              "       [359.58533],\n",
              "       [358.38605],\n",
              "       [356.62967],\n",
              "       [354.18307],\n",
              "       [350.98575],\n",
              "       [346.79053],\n",
              "       [342.15143],\n",
              "       [337.7137 ]], dtype=float32)"
            ]
          },
          "execution_count": 17,
          "metadata": {},
          "output_type": "execute_result"
        }
      ],
      "source": [
        "pr"
      ]
    },
    {
      "cell_type": "code",
      "execution_count": 18,
      "metadata": {
        "id": "NwwAxBMJtfQG"
      },
      "outputs": [],
      "source": [
        "import pickle\n",
        "pickle.dump(model,open('./1stmodel.sav','wb'))"
      ]
    }
  ],
  "metadata": {
    "accelerator": "GPU",
    "colab": {
      "gpuType": "T4",
      "provenance": []
    },
    "kernelspec": {
      "display_name": "Python 3",
      "name": "python3"
    },
    "language_info": {
      "codemirror_mode": {
        "name": "ipython",
        "version": 3
      },
      "file_extension": ".py",
      "mimetype": "text/x-python",
      "name": "python",
      "nbconvert_exporter": "python",
      "pygments_lexer": "ipython3",
      "version": "3.11.3"
    }
  },
  "nbformat": 4,
  "nbformat_minor": 0
}
